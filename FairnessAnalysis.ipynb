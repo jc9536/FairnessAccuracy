{
  "nbformat": 4,
  "nbformat_minor": 0,
  "metadata": {
    "colab": {
      "provenance": []
    },
    "kernelspec": {
      "name": "python3",
      "display_name": "Python 3"
    },
    "language_info": {
      "name": "python"
    }
  },
  "cells": [
    {
      "cell_type": "markdown",
      "source": [
        "# Analyzing Akshay Pawar’s “ROC_AUC & Decision Boundary for Titanic survival” Version 11 for Titanic - Machine Learning from Disaster Competition on Kaggle\n",
        "\n",
        "**Authors: Jaimie Chin**\n",
        "\n",
        "The purpose of Akshay Pawar’s ADS is to acquire stable results on predicting Titanic disaster outcome (which passengers would survive). Pawar’s goal is to tune classification models based on ROC and AUC scores to achieve the best stability/accuracy and choose the most consistent predictions under a Voting Classifier. In other words, this ADS values accuracy and consistency by choosing the best attributes to predict survival and choosing the most consistent prediction among all the most accurate classification models.\n",
        "\n",
        "* You can find Pawar's ADS submission on Kaggle [here](https://www.kaggle.com/code/akshaypawar7/roc-auc-decision-boundary-for-titanic-survival).\n",
        "\n",
        "* You can find the *Titanic - Machine Learning from Disaster Competition* on Kaggle [here](https://www.kaggle.com/c/titanic).\n",
        "\n",
        "## Goal with this Analysis\n",
        "\n",
        "As Pawar’s ADS values accuracy and consistency with its predictions, there is a trade-off that may be observed with predictive fairness. Pawar’s ADS should be evaluated for disparate impact and/or disparate treatment of individuals based on the protected characteristics: sex, age, ticket class. We should observe if/how individuals are treated differently within such groups. We may also want to observe trade-offs regarding the privacy of passenger data because the ADS does not have any function to mitigate sensitive information that can be used to identify passengers.\n"
      ],
      "metadata": {
        "id": "eI4eVWcCEXXw"
      }
    },
    {
      "cell_type": "markdown",
      "source": [
        "### Setup\n",
        "\n",
        "Install appropriate packages for analysis "
      ],
      "metadata": {
        "id": "P68YQ2MHHE_2"
      }
    },
    {
      "cell_type": "code",
      "source": [
        "!pip install aif360==0.3.0 \n",
        "!pip install aif360[LFR]\n",
        "!pip install -q kaggle"
      ],
      "metadata": {
        "id": "eeqpwUQZGiWr",
        "colab": {
          "base_uri": "https://localhost:8080/"
        },
        "outputId": "a9bb6d4b-7a34-42b2-986f-8b5cd6cb7eab"
      },
      "execution_count": null,
      "outputs": [
        {
          "output_type": "stream",
          "name": "stdout",
          "text": [
            "Requirement already satisfied: aif360==0.3.0 in /usr/local/lib/python3.7/dist-packages (0.3.0)\n",
            "Requirement already satisfied: scipy>=1.2.0 in /usr/local/lib/python3.7/dist-packages (from aif360==0.3.0) (1.4.1)\n",
            "Requirement already satisfied: pandas>=0.24.0 in /usr/local/lib/python3.7/dist-packages (from aif360==0.3.0) (1.3.5)\n",
            "Requirement already satisfied: scikit-learn>=0.21 in /usr/local/lib/python3.7/dist-packages (from aif360==0.3.0) (1.0.2)\n",
            "Requirement already satisfied: numpy>=1.16 in /usr/local/lib/python3.7/dist-packages (from aif360==0.3.0) (1.21.6)\n",
            "Requirement already satisfied: matplotlib in /usr/local/lib/python3.7/dist-packages (from aif360==0.3.0) (3.2.2)\n",
            "Requirement already satisfied: pytz>=2017.3 in /usr/local/lib/python3.7/dist-packages (from pandas>=0.24.0->aif360==0.3.0) (2022.1)\n",
            "Requirement already satisfied: python-dateutil>=2.7.3 in /usr/local/lib/python3.7/dist-packages (from pandas>=0.24.0->aif360==0.3.0) (2.8.2)\n",
            "Requirement already satisfied: six>=1.5 in /usr/local/lib/python3.7/dist-packages (from python-dateutil>=2.7.3->pandas>=0.24.0->aif360==0.3.0) (1.15.0)\n",
            "Requirement already satisfied: joblib>=0.11 in /usr/local/lib/python3.7/dist-packages (from scikit-learn>=0.21->aif360==0.3.0) (1.1.0)\n",
            "Requirement already satisfied: threadpoolctl>=2.0.0 in /usr/local/lib/python3.7/dist-packages (from scikit-learn>=0.21->aif360==0.3.0) (3.1.0)\n",
            "Requirement already satisfied: cycler>=0.10 in /usr/local/lib/python3.7/dist-packages (from matplotlib->aif360==0.3.0) (0.11.0)\n",
            "Requirement already satisfied: pyparsing!=2.0.4,!=2.1.2,!=2.1.6,>=2.0.1 in /usr/local/lib/python3.7/dist-packages (from matplotlib->aif360==0.3.0) (3.0.8)\n",
            "Requirement already satisfied: kiwisolver>=1.0.1 in /usr/local/lib/python3.7/dist-packages (from matplotlib->aif360==0.3.0) (1.4.2)\n",
            "Requirement already satisfied: typing-extensions in /usr/local/lib/python3.7/dist-packages (from kiwisolver>=1.0.1->matplotlib->aif360==0.3.0) (4.2.0)\n",
            "Requirement already satisfied: aif360[LFR] in /usr/local/lib/python3.7/dist-packages (0.3.0)\n",
            "Requirement already satisfied: pandas>=0.24.0 in /usr/local/lib/python3.7/dist-packages (from aif360[LFR]) (1.3.5)\n",
            "Requirement already satisfied: scipy>=1.2.0 in /usr/local/lib/python3.7/dist-packages (from aif360[LFR]) (1.4.1)\n",
            "Requirement already satisfied: matplotlib in /usr/local/lib/python3.7/dist-packages (from aif360[LFR]) (3.2.2)\n",
            "Requirement already satisfied: numpy>=1.16 in /usr/local/lib/python3.7/dist-packages (from aif360[LFR]) (1.21.6)\n",
            "Requirement already satisfied: scikit-learn>=0.21 in /usr/local/lib/python3.7/dist-packages (from aif360[LFR]) (1.0.2)\n",
            "Requirement already satisfied: numba>=0.42.0 in /usr/local/lib/python3.7/dist-packages (from aif360[LFR]) (0.51.2)\n",
            "Requirement already satisfied: setuptools in /usr/local/lib/python3.7/dist-packages (from numba>=0.42.0->aif360[LFR]) (57.4.0)\n",
            "Requirement already satisfied: llvmlite<0.35,>=0.34.0.dev0 in /usr/local/lib/python3.7/dist-packages (from numba>=0.42.0->aif360[LFR]) (0.34.0)\n",
            "Requirement already satisfied: pytz>=2017.3 in /usr/local/lib/python3.7/dist-packages (from pandas>=0.24.0->aif360[LFR]) (2022.1)\n",
            "Requirement already satisfied: python-dateutil>=2.7.3 in /usr/local/lib/python3.7/dist-packages (from pandas>=0.24.0->aif360[LFR]) (2.8.2)\n",
            "Requirement already satisfied: six>=1.5 in /usr/local/lib/python3.7/dist-packages (from python-dateutil>=2.7.3->pandas>=0.24.0->aif360[LFR]) (1.15.0)\n",
            "Requirement already satisfied: threadpoolctl>=2.0.0 in /usr/local/lib/python3.7/dist-packages (from scikit-learn>=0.21->aif360[LFR]) (3.1.0)\n",
            "Requirement already satisfied: joblib>=0.11 in /usr/local/lib/python3.7/dist-packages (from scikit-learn>=0.21->aif360[LFR]) (1.1.0)\n",
            "Requirement already satisfied: pyparsing!=2.0.4,!=2.1.2,!=2.1.6,>=2.0.1 in /usr/local/lib/python3.7/dist-packages (from matplotlib->aif360[LFR]) (3.0.8)\n",
            "Requirement already satisfied: kiwisolver>=1.0.1 in /usr/local/lib/python3.7/dist-packages (from matplotlib->aif360[LFR]) (1.4.2)\n",
            "Requirement already satisfied: cycler>=0.10 in /usr/local/lib/python3.7/dist-packages (from matplotlib->aif360[LFR]) (0.11.0)\n",
            "Requirement already satisfied: typing-extensions in /usr/local/lib/python3.7/dist-packages (from kiwisolver>=1.0.1->matplotlib->aif360[LFR]) (4.2.0)\n"
          ]
        }
      ]
    },
    {
      "cell_type": "code",
      "source": [
        "from aif360.metrics import BinaryLabelDatasetMetric, DatasetMetric\n",
        "from aif360.explainers import MetricTextExplainer, MetricJSONExplainer\n",
        "\n",
        "from google.colab import files\n",
        "\n",
        "from scipy.stats import entropy, ks_2samp\n",
        "from scipy.stats import randint as sp_randint\n",
        "from scipy.stats import uniform as sp_uniform\n",
        "from scipy.spatial.distance import euclidean\n",
        "\n",
        "from random import randint\n",
        "import pandas as pd\n",
        "import numpy as np\n",
        "import matplotlib.pyplot as plt\n",
        "import seaborn as sns\n",
        "\n",
        "%matplotlib inline"
      ],
      "metadata": {
        "id": "cRajw_pGHYcI"
      },
      "execution_count": null,
      "outputs": []
    },
    {
      "cell_type": "code",
      "source": [
        "import sys\n",
        "import warnings\n",
        "\n",
        "import json\n",
        "import time \n",
        "from tqdm import tqdm\n",
        "\n",
        "# Import ML models that Pawar uses for his final Voting Classifier\n",
        "from sklearn.naive_bayes import GaussianNB\n",
        "from sklearn.linear_model import LogisticRegression\n",
        "from sklearn.neighbors import KNeighborsClassifier\n",
        "from sklearn.svm import SVC\n",
        "from sklearn.tree import DecisionTreeClassifier\n",
        "from sklearn.ensemble import RandomForestClassifier, AdaBoostClassifier, VotingClassifier\n",
        "from xgboost import XGBClassifier\n",
        "from lightgbm import LGBMClassifier\n",
        "\n",
        "from sklearn import metrics\n",
        "from sklearn.metrics import mutual_info_score, accuracy_score, confusion_matrix, precision_score, recall_score, f1_score, roc_curve, plot_roc_curve, roc_auc_score\n",
        "from sklearn.model_selection import RandomizedSearchCV, cross_val_score, cross_validate, GridSearchCV, KFold, learning_curve, train_test_split\n",
        "from sklearn.preprocessing import StandardScaler\n",
        "\n",
        "from sklearn.experimental import enable_iterative_imputer\n",
        "from sklearn.impute import IterativeImputer\n",
        "\n",
        "from aif360.datasets import BinaryLabelDataset, StandardDataset\n",
        "from aif360.algorithms.preprocessing import DisparateImpactRemover\n",
        "from aif360.algorithms.inprocessing import PrejudiceRemover\n",
        "from aif360.algorithms.postprocessing import CalibratedEqOddsPostprocessing, RejectOptionClassification\n",
        "from aif360.metrics import BinaryLabelDatasetMetric, ClassificationMetric"
      ],
      "metadata": {
        "id": "iRrwMDvSs6ce",
        "colab": {
          "base_uri": "https://localhost:8080/"
        },
        "outputId": "b5b40af4-5ed2-4c5f-cedc-7768ab95e18e"
      },
      "execution_count": null,
      "outputs": [
        {
          "output_type": "stream",
          "name": "stderr",
          "text": [
            "WARNING:root:No module named 'numba.decorators': LFR will be unavailable. To install, run:\n",
            "pip install 'aif360[LFR]'\n"
          ]
        }
      ]
    },
    {
      "cell_type": "markdown",
      "source": [
        "### Import .csv files from Kaggle \n",
        "\n",
        "Please follow the commented directions on how to import Kaggle competition .csv files into Colaboratory. *You will need a Kaggle.com account to do this.* More details directions can be found [here](https://www.analyticsvidhya.com/blog/2021/06/how-to-load-kaggle-datasets-directly-into-google-colab/#:~:text=Fire%20up%20a%20Google%20Colab,you%20just%20downloaded%20from%20Kaggle.&text=Now%20you%20are%20all%20set,need%20to%20load%20the%20dataset.).\n",
        "\n",
        "If you are unable to successfully connect to Kaggle using the provided code, please manually download train and test files from the Kaggle competition, upload to Colaboratory and run the cell that reads the .csv files (skip the next 3 cells)"
      ],
      "metadata": {
        "id": "QeV8L3yBhRgy"
      }
    },
    {
      "cell_type": "code",
      "source": [
        "# Import the \"kaggle.json\" file from Kaggle account to directly download .csv files from Competitions \n",
        "# Go to 'Account' on Kaggle.com and click \"Create New API Token\"\n",
        "# \"kaggle.json\" will download on to your computer \n",
        "# Upload \"kaggle.json\" file to Google Colaboratory from the \"Choose Files\" prompt \n",
        "\n",
        "# If you face an errors, try: \"Expire All API Tokens\" when you Go to 'Account' on Kaggle.com\n",
        "# Create a new API token and try again\n",
        "# Please make sure your file is named \"kaggle.json\" and not \"kaggle.json (1)\" or any other file name\n",
        "\n",
        "files.upload()"
      ],
      "metadata": {
        "colab": {
          "resources": {
            "http://localhost:8080/nbextensions/google.colab/files.js": {
              "data": "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",
              "ok": true,
              "headers": [
                [
                  "content-type",
                  "application/javascript"
                ]
              ],
              "status": 200,
              "status_text": ""
            }
          },
          "base_uri": "https://localhost:8080/",
          "height": 111
        },
        "id": "g0A9XpuXhUdN",
        "outputId": "9154cd32-dbcc-4d80-f835-a58e658ef75b"
      },
      "execution_count": null,
      "outputs": [
        {
          "output_type": "display_data",
          "data": {
            "text/plain": [
              "<IPython.core.display.HTML object>"
            ],
            "text/html": [
              "\n",
              "     <input type=\"file\" id=\"files-ed5abc5d-b49e-4a84-9b2c-bca4e15214b4\" name=\"files[]\" multiple disabled\n",
              "        style=\"border:none\" />\n",
              "     <output id=\"result-ed5abc5d-b49e-4a84-9b2c-bca4e15214b4\">\n",
              "      Upload widget is only available when the cell has been executed in the\n",
              "      current browser session. Please rerun this cell to enable.\n",
              "      </output>\n",
              "      <script src=\"/nbextensions/google.colab/files.js\"></script> "
            ]
          },
          "metadata": {}
        },
        {
          "output_type": "stream",
          "name": "stdout",
          "text": [
            "Saving kaggle.json to kaggle.json\n"
          ]
        },
        {
          "output_type": "execute_result",
          "data": {
            "text/plain": [
              "{'kaggle.json': b'{\"username\":\"jaimiechin\",\"key\":\"75d4e7d3ecd1f2896abf518660edf85f\"}'}"
            ]
          },
          "metadata": {},
          "execution_count": 4
        }
      ]
    },
    {
      "cell_type": "code",
      "source": [
        "!rm -r ~/.kaggle\n",
        "!mkdir ~/.kaggle\n",
        "!mv ./kaggle.json ~/.kaggle/\n",
        "!chmod 600 ~/.kaggle/kaggle.json\n",
        "!kaggle datasets list"
      ],
      "metadata": {
        "colab": {
          "base_uri": "https://localhost:8080/"
        },
        "id": "BOnLqtArhn8a",
        "outputId": "3d6c01f6-8ad4-405b-871f-d6ebf6808b23"
      },
      "execution_count": null,
      "outputs": [
        {
          "output_type": "stream",
          "name": "stdout",
          "text": [
            "ref                                                                            title                                             size  lastUpdated          downloadCount  voteCount  usabilityRating  \n",
            "-----------------------------------------------------------------------------  -----------------------------------------------  -----  -------------------  -------------  ---------  ---------------  \n",
            "datasets/muratkokludataset/acoustic-extinguisher-fire-dataset                  Acoustic Extinguisher Fire Dataset               621KB  2022-04-02 22:59:36            917        642  0.9375           \n",
            "datasets/muratkokludataset/rice-image-dataset                                  Rice Image Dataset                               219MB  2022-04-03 02:12:00           1000        592  0.875            \n",
            "datasets/mdmahmudulhasansuzan/students-adaptability-level-in-online-education  Students Adaptability Level in Online Education    6KB  2022-04-16 04:46:28           3557         85  1.0              \n",
            "datasets/muratkokludataset/raisin-dataset                                      Raisin Dataset                                   112KB  2022-04-03 00:23:16            400        518  0.9375           \n",
            "datasets/muratkokludataset/pistachio-dataset                                   Pistachio Dataset                                  2MB  2022-04-03 08:38:21            477        540  0.9375           \n",
            "datasets/muratkokludataset/dry-bean-dataset                                    Dry Bean Dataset                                   5MB  2022-04-02 23:19:30            302        521  0.9375           \n",
            "datasets/muratkokludataset/pistachio-image-dataset                             Pistachio Image Dataset                           27MB  2022-03-28 18:01:27            363        577  0.9375           \n",
            "datasets/muratkokludataset/grapevine-leaves-image-dataset                      Grapevine Leaves Image Dataset                   109MB  2022-04-03 09:00:54            116        550  0.875            \n",
            "datasets/muratkokludataset/rice-msc-dataset                                    Rice MSC Dataset                                 102MB  2022-04-03 01:33:52            168        512  0.9375           \n",
            "datasets/muratkokludataset/pumpkin-seeds-dataset                               Pumpkin Seeds Dataset                            393KB  2022-03-28 18:28:16            388        518  0.9375           \n",
            "datasets/muratkokludataset/durum-wheat-dataset                                 Durum Wheat Dataset                              983MB  2022-04-03 00:02:29             70        524  0.875            \n",
            "datasets/muratkokludataset/rice-dataset-commeo-and-osmancik                    Rice Dataset Commeo and Osmancik                 524KB  2022-04-03 00:40:03             85        503  0.875            \n",
            "datasets/muhmores/spotify-top-100-songs-of-20152019                            Spotify Top 100 Songs of 2010-2019               139KB  2022-04-09 06:35:36           4229         94  0.88235295       \n",
            "datasets/rinichristy/covid19-coronavirus-pandemic                              COVID-19 Coronavirus Pandemic                      9KB  2022-04-05 08:43:16           2791         57  1.0              \n",
            "datasets/aslanahmedov/walmart-sales-forecast                                   Walmart Sales Forecast                             3MB  2022-04-21 05:28:20           1758         52  1.0              \n",
            "datasets/digvijaysinhgohil/covid19-data-deaths-and-vaccinations                Covid-19 Data Deaths and Vaccinations              2MB  2022-05-04 19:06:58            340         17  1.0              \n",
            "datasets/alexandrparkhomenko/top-apps-in-google-play                           Top Apps in Google Play                            3KB  2022-04-29 05:16:34            735         33  1.0              \n",
            "datasets/samuelcortinhas/credit-card-approval-clean-data                       Credit Card Approvals (Clean Data)                19KB  2022-04-25 15:52:35           1320         36  1.0              \n",
            "datasets/awsaf49/uwmgi-mask-dataset                                            UWMGI: Mask Dataset                               77MB  2022-04-24 17:46:47            503         37  0.7647059        \n",
            "datasets/xhlulu/cpc-codes                                                      Cooperative Patent Classification Codes Meaning    5MB  2022-03-22 03:04:36           1745        124  1.0              \n"
          ]
        }
      ]
    },
    {
      "cell_type": "code",
      "source": [
        "!kaggle competitions download -c titanic\n",
        "!mkdir titanic\n",
        "!unzip titanic.zip -d titanic"
      ],
      "metadata": {
        "colab": {
          "base_uri": "https://localhost:8080/"
        },
        "id": "INSYgDjEirMS",
        "outputId": "1f964c0b-066c-4d27-a34b-5750b8a25fbe"
      },
      "execution_count": null,
      "outputs": [
        {
          "output_type": "stream",
          "name": "stdout",
          "text": [
            "titanic.zip: Skipping, found more recently modified local copy (use --force to force download)\n",
            "mkdir: cannot create directory ‘titanic’: File exists\n",
            "Archive:  titanic.zip\n",
            "replace titanic/gender_submission.csv? [y]es, [n]o, [A]ll, [N]one, [r]ename: y\n",
            "  inflating: titanic/gender_submission.csv  \n",
            "replace titanic/test.csv? [y]es, [n]o, [A]ll, [N]one, [r]ename: y\n",
            "  inflating: titanic/test.csv        \n",
            "replace titanic/train.csv? [y]es, [n]o, [A]ll, [N]one, [r]ename: y\n",
            "  inflating: titanic/train.csv       \n"
          ]
        }
      ]
    },
    {
      "cell_type": "code",
      "source": [
        "# Read the .csv files \n",
        "train = pd.read_csv('titanic/train.csv')\n",
        "test = pd.read_csv('titanic/test.csv')\n",
        "\n",
        "# display train data\n",
        "train.head()"
      ],
      "metadata": {
        "colab": {
          "base_uri": "https://localhost:8080/",
          "height": 548
        },
        "id": "1z13ceZWi3vb",
        "outputId": "ee63992b-da66-431b-d59c-149d309453d1"
      },
      "execution_count": null,
      "outputs": [
        {
          "output_type": "execute_result",
          "data": {
            "text/plain": [
              "   PassengerId  Survived  Pclass  \\\n",
              "0            1         0       3   \n",
              "1            2         1       1   \n",
              "2            3         1       3   \n",
              "3            4         1       1   \n",
              "4            5         0       3   \n",
              "\n",
              "                                                Name     Sex   Age  SibSp  \\\n",
              "0                            Braund, Mr. Owen Harris    male  22.0      1   \n",
              "1  Cumings, Mrs. John Bradley (Florence Briggs Th...  female  38.0      1   \n",
              "2                             Heikkinen, Miss. Laina  female  26.0      0   \n",
              "3       Futrelle, Mrs. Jacques Heath (Lily May Peel)  female  35.0      1   \n",
              "4                           Allen, Mr. William Henry    male  35.0      0   \n",
              "\n",
              "   Parch            Ticket     Fare Cabin Embarked  \n",
              "0      0         A/5 21171   7.2500   NaN        S  \n",
              "1      0          PC 17599  71.2833   C85        C  \n",
              "2      0  STON/O2. 3101282   7.9250   NaN        S  \n",
              "3      0            113803  53.1000  C123        S  \n",
              "4      0            373450   8.0500   NaN        S  "
            ],
            "text/html": [
              "\n",
              "  <div id=\"df-7125396c-e47f-441a-95d3-2fe113bd2012\">\n",
              "    <div class=\"colab-df-container\">\n",
              "      <div>\n",
              "<style scoped>\n",
              "    .dataframe tbody tr th:only-of-type {\n",
              "        vertical-align: middle;\n",
              "    }\n",
              "\n",
              "    .dataframe tbody tr th {\n",
              "        vertical-align: top;\n",
              "    }\n",
              "\n",
              "    .dataframe thead th {\n",
              "        text-align: right;\n",
              "    }\n",
              "</style>\n",
              "<table border=\"1\" class=\"dataframe\">\n",
              "  <thead>\n",
              "    <tr style=\"text-align: right;\">\n",
              "      <th></th>\n",
              "      <th>PassengerId</th>\n",
              "      <th>Survived</th>\n",
              "      <th>Pclass</th>\n",
              "      <th>Name</th>\n",
              "      <th>Sex</th>\n",
              "      <th>Age</th>\n",
              "      <th>SibSp</th>\n",
              "      <th>Parch</th>\n",
              "      <th>Ticket</th>\n",
              "      <th>Fare</th>\n",
              "      <th>Cabin</th>\n",
              "      <th>Embarked</th>\n",
              "    </tr>\n",
              "  </thead>\n",
              "  <tbody>\n",
              "    <tr>\n",
              "      <th>0</th>\n",
              "      <td>1</td>\n",
              "      <td>0</td>\n",
              "      <td>3</td>\n",
              "      <td>Braund, Mr. Owen Harris</td>\n",
              "      <td>male</td>\n",
              "      <td>22.0</td>\n",
              "      <td>1</td>\n",
              "      <td>0</td>\n",
              "      <td>A/5 21171</td>\n",
              "      <td>7.2500</td>\n",
              "      <td>NaN</td>\n",
              "      <td>S</td>\n",
              "    </tr>\n",
              "    <tr>\n",
              "      <th>1</th>\n",
              "      <td>2</td>\n",
              "      <td>1</td>\n",
              "      <td>1</td>\n",
              "      <td>Cumings, Mrs. John Bradley (Florence Briggs Th...</td>\n",
              "      <td>female</td>\n",
              "      <td>38.0</td>\n",
              "      <td>1</td>\n",
              "      <td>0</td>\n",
              "      <td>PC 17599</td>\n",
              "      <td>71.2833</td>\n",
              "      <td>C85</td>\n",
              "      <td>C</td>\n",
              "    </tr>\n",
              "    <tr>\n",
              "      <th>2</th>\n",
              "      <td>3</td>\n",
              "      <td>1</td>\n",
              "      <td>3</td>\n",
              "      <td>Heikkinen, Miss. Laina</td>\n",
              "      <td>female</td>\n",
              "      <td>26.0</td>\n",
              "      <td>0</td>\n",
              "      <td>0</td>\n",
              "      <td>STON/O2. 3101282</td>\n",
              "      <td>7.9250</td>\n",
              "      <td>NaN</td>\n",
              "      <td>S</td>\n",
              "    </tr>\n",
              "    <tr>\n",
              "      <th>3</th>\n",
              "      <td>4</td>\n",
              "      <td>1</td>\n",
              "      <td>1</td>\n",
              "      <td>Futrelle, Mrs. Jacques Heath (Lily May Peel)</td>\n",
              "      <td>female</td>\n",
              "      <td>35.0</td>\n",
              "      <td>1</td>\n",
              "      <td>0</td>\n",
              "      <td>113803</td>\n",
              "      <td>53.1000</td>\n",
              "      <td>C123</td>\n",
              "      <td>S</td>\n",
              "    </tr>\n",
              "    <tr>\n",
              "      <th>4</th>\n",
              "      <td>5</td>\n",
              "      <td>0</td>\n",
              "      <td>3</td>\n",
              "      <td>Allen, Mr. William Henry</td>\n",
              "      <td>male</td>\n",
              "      <td>35.0</td>\n",
              "      <td>0</td>\n",
              "      <td>0</td>\n",
              "      <td>373450</td>\n",
              "      <td>8.0500</td>\n",
              "      <td>NaN</td>\n",
              "      <td>S</td>\n",
              "    </tr>\n",
              "  </tbody>\n",
              "</table>\n",
              "</div>\n",
              "      <button class=\"colab-df-convert\" onclick=\"convertToInteractive('df-7125396c-e47f-441a-95d3-2fe113bd2012')\"\n",
              "              title=\"Convert this dataframe to an interactive table.\"\n",
              "              style=\"display:none;\">\n",
              "        \n",
              "  <svg xmlns=\"http://www.w3.org/2000/svg\" height=\"24px\"viewBox=\"0 0 24 24\"\n",
              "       width=\"24px\">\n",
              "    <path d=\"M0 0h24v24H0V0z\" fill=\"none\"/>\n",
              "    <path d=\"M18.56 5.44l.94 2.06.94-2.06 2.06-.94-2.06-.94-.94-2.06-.94 2.06-2.06.94zm-11 1L8.5 8.5l.94-2.06 2.06-.94-2.06-.94L8.5 2.5l-.94 2.06-2.06.94zm10 10l.94 2.06.94-2.06 2.06-.94-2.06-.94-.94-2.06-.94 2.06-2.06.94z\"/><path d=\"M17.41 7.96l-1.37-1.37c-.4-.4-.92-.59-1.43-.59-.52 0-1.04.2-1.43.59L10.3 9.45l-7.72 7.72c-.78.78-.78 2.05 0 2.83L4 21.41c.39.39.9.59 1.41.59.51 0 1.02-.2 1.41-.59l7.78-7.78 2.81-2.81c.8-.78.8-2.07 0-2.86zM5.41 20L4 18.59l7.72-7.72 1.47 1.35L5.41 20z\"/>\n",
              "  </svg>\n",
              "      </button>\n",
              "      \n",
              "  <style>\n",
              "    .colab-df-container {\n",
              "      display:flex;\n",
              "      flex-wrap:wrap;\n",
              "      gap: 12px;\n",
              "    }\n",
              "\n",
              "    .colab-df-convert {\n",
              "      background-color: #E8F0FE;\n",
              "      border: none;\n",
              "      border-radius: 50%;\n",
              "      cursor: pointer;\n",
              "      display: none;\n",
              "      fill: #1967D2;\n",
              "      height: 32px;\n",
              "      padding: 0 0 0 0;\n",
              "      width: 32px;\n",
              "    }\n",
              "\n",
              "    .colab-df-convert:hover {\n",
              "      background-color: #E2EBFA;\n",
              "      box-shadow: 0px 1px 2px rgba(60, 64, 67, 0.3), 0px 1px 3px 1px rgba(60, 64, 67, 0.15);\n",
              "      fill: #174EA6;\n",
              "    }\n",
              "\n",
              "    [theme=dark] .colab-df-convert {\n",
              "      background-color: #3B4455;\n",
              "      fill: #D2E3FC;\n",
              "    }\n",
              "\n",
              "    [theme=dark] .colab-df-convert:hover {\n",
              "      background-color: #434B5C;\n",
              "      box-shadow: 0px 1px 3px 1px rgba(0, 0, 0, 0.15);\n",
              "      filter: drop-shadow(0px 1px 2px rgba(0, 0, 0, 0.3));\n",
              "      fill: #FFFFFF;\n",
              "    }\n",
              "  </style>\n",
              "\n",
              "      <script>\n",
              "        const buttonEl =\n",
              "          document.querySelector('#df-7125396c-e47f-441a-95d3-2fe113bd2012 button.colab-df-convert');\n",
              "        buttonEl.style.display =\n",
              "          google.colab.kernel.accessAllowed ? 'block' : 'none';\n",
              "\n",
              "        async function convertToInteractive(key) {\n",
              "          const element = document.querySelector('#df-7125396c-e47f-441a-95d3-2fe113bd2012');\n",
              "          const dataTable =\n",
              "            await google.colab.kernel.invokeFunction('convertToInteractive',\n",
              "                                                     [key], {});\n",
              "          if (!dataTable) return;\n",
              "\n",
              "          const docLinkHtml = 'Like what you see? Visit the ' +\n",
              "            '<a target=\"_blank\" href=https://colab.research.google.com/notebooks/data_table.ipynb>data table notebook</a>'\n",
              "            + ' to learn more about interactive tables.';\n",
              "          element.innerHTML = '';\n",
              "          dataTable['output_type'] = 'display_data';\n",
              "          await google.colab.output.renderOutput(dataTable, element);\n",
              "          const docLink = document.createElement('div');\n",
              "          docLink.innerHTML = docLinkHtml;\n",
              "          element.appendChild(docLink);\n",
              "        }\n",
              "      </script>\n",
              "    </div>\n",
              "  </div>\n",
              "  "
            ]
          },
          "metadata": {},
          "execution_count": 7
        }
      ]
    },
    {
      "cell_type": "code",
      "source": [
        "# Display the test data \n",
        "test.head()"
      ],
      "metadata": {
        "colab": {
          "base_uri": "https://localhost:8080/",
          "height": 496
        },
        "id": "CMZ_Kzv9ZHz1",
        "outputId": "15949e23-3554-4722-c1e8-cad092a93a83"
      },
      "execution_count": null,
      "outputs": [
        {
          "output_type": "execute_result",
          "data": {
            "text/plain": [
              "   PassengerId  Pclass                                          Name     Sex  \\\n",
              "0          892       3                              Kelly, Mr. James    male   \n",
              "1          893       3              Wilkes, Mrs. James (Ellen Needs)  female   \n",
              "2          894       2                     Myles, Mr. Thomas Francis    male   \n",
              "3          895       3                              Wirz, Mr. Albert    male   \n",
              "4          896       3  Hirvonen, Mrs. Alexander (Helga E Lindqvist)  female   \n",
              "\n",
              "    Age  SibSp  Parch   Ticket     Fare Cabin Embarked  \n",
              "0  34.5      0      0   330911   7.8292   NaN        Q  \n",
              "1  47.0      1      0   363272   7.0000   NaN        S  \n",
              "2  62.0      0      0   240276   9.6875   NaN        Q  \n",
              "3  27.0      0      0   315154   8.6625   NaN        S  \n",
              "4  22.0      1      1  3101298  12.2875   NaN        S  "
            ],
            "text/html": [
              "\n",
              "  <div id=\"df-6a129326-760f-4532-8198-b8b3f02854f9\">\n",
              "    <div class=\"colab-df-container\">\n",
              "      <div>\n",
              "<style scoped>\n",
              "    .dataframe tbody tr th:only-of-type {\n",
              "        vertical-align: middle;\n",
              "    }\n",
              "\n",
              "    .dataframe tbody tr th {\n",
              "        vertical-align: top;\n",
              "    }\n",
              "\n",
              "    .dataframe thead th {\n",
              "        text-align: right;\n",
              "    }\n",
              "</style>\n",
              "<table border=\"1\" class=\"dataframe\">\n",
              "  <thead>\n",
              "    <tr style=\"text-align: right;\">\n",
              "      <th></th>\n",
              "      <th>PassengerId</th>\n",
              "      <th>Pclass</th>\n",
              "      <th>Name</th>\n",
              "      <th>Sex</th>\n",
              "      <th>Age</th>\n",
              "      <th>SibSp</th>\n",
              "      <th>Parch</th>\n",
              "      <th>Ticket</th>\n",
              "      <th>Fare</th>\n",
              "      <th>Cabin</th>\n",
              "      <th>Embarked</th>\n",
              "    </tr>\n",
              "  </thead>\n",
              "  <tbody>\n",
              "    <tr>\n",
              "      <th>0</th>\n",
              "      <td>892</td>\n",
              "      <td>3</td>\n",
              "      <td>Kelly, Mr. James</td>\n",
              "      <td>male</td>\n",
              "      <td>34.5</td>\n",
              "      <td>0</td>\n",
              "      <td>0</td>\n",
              "      <td>330911</td>\n",
              "      <td>7.8292</td>\n",
              "      <td>NaN</td>\n",
              "      <td>Q</td>\n",
              "    </tr>\n",
              "    <tr>\n",
              "      <th>1</th>\n",
              "      <td>893</td>\n",
              "      <td>3</td>\n",
              "      <td>Wilkes, Mrs. James (Ellen Needs)</td>\n",
              "      <td>female</td>\n",
              "      <td>47.0</td>\n",
              "      <td>1</td>\n",
              "      <td>0</td>\n",
              "      <td>363272</td>\n",
              "      <td>7.0000</td>\n",
              "      <td>NaN</td>\n",
              "      <td>S</td>\n",
              "    </tr>\n",
              "    <tr>\n",
              "      <th>2</th>\n",
              "      <td>894</td>\n",
              "      <td>2</td>\n",
              "      <td>Myles, Mr. Thomas Francis</td>\n",
              "      <td>male</td>\n",
              "      <td>62.0</td>\n",
              "      <td>0</td>\n",
              "      <td>0</td>\n",
              "      <td>240276</td>\n",
              "      <td>9.6875</td>\n",
              "      <td>NaN</td>\n",
              "      <td>Q</td>\n",
              "    </tr>\n",
              "    <tr>\n",
              "      <th>3</th>\n",
              "      <td>895</td>\n",
              "      <td>3</td>\n",
              "      <td>Wirz, Mr. Albert</td>\n",
              "      <td>male</td>\n",
              "      <td>27.0</td>\n",
              "      <td>0</td>\n",
              "      <td>0</td>\n",
              "      <td>315154</td>\n",
              "      <td>8.6625</td>\n",
              "      <td>NaN</td>\n",
              "      <td>S</td>\n",
              "    </tr>\n",
              "    <tr>\n",
              "      <th>4</th>\n",
              "      <td>896</td>\n",
              "      <td>3</td>\n",
              "      <td>Hirvonen, Mrs. Alexander (Helga E Lindqvist)</td>\n",
              "      <td>female</td>\n",
              "      <td>22.0</td>\n",
              "      <td>1</td>\n",
              "      <td>1</td>\n",
              "      <td>3101298</td>\n",
              "      <td>12.2875</td>\n",
              "      <td>NaN</td>\n",
              "      <td>S</td>\n",
              "    </tr>\n",
              "  </tbody>\n",
              "</table>\n",
              "</div>\n",
              "      <button class=\"colab-df-convert\" onclick=\"convertToInteractive('df-6a129326-760f-4532-8198-b8b3f02854f9')\"\n",
              "              title=\"Convert this dataframe to an interactive table.\"\n",
              "              style=\"display:none;\">\n",
              "        \n",
              "  <svg xmlns=\"http://www.w3.org/2000/svg\" height=\"24px\"viewBox=\"0 0 24 24\"\n",
              "       width=\"24px\">\n",
              "    <path d=\"M0 0h24v24H0V0z\" fill=\"none\"/>\n",
              "    <path d=\"M18.56 5.44l.94 2.06.94-2.06 2.06-.94-2.06-.94-.94-2.06-.94 2.06-2.06.94zm-11 1L8.5 8.5l.94-2.06 2.06-.94-2.06-.94L8.5 2.5l-.94 2.06-2.06.94zm10 10l.94 2.06.94-2.06 2.06-.94-2.06-.94-.94-2.06-.94 2.06-2.06.94z\"/><path d=\"M17.41 7.96l-1.37-1.37c-.4-.4-.92-.59-1.43-.59-.52 0-1.04.2-1.43.59L10.3 9.45l-7.72 7.72c-.78.78-.78 2.05 0 2.83L4 21.41c.39.39.9.59 1.41.59.51 0 1.02-.2 1.41-.59l7.78-7.78 2.81-2.81c.8-.78.8-2.07 0-2.86zM5.41 20L4 18.59l7.72-7.72 1.47 1.35L5.41 20z\"/>\n",
              "  </svg>\n",
              "      </button>\n",
              "      \n",
              "  <style>\n",
              "    .colab-df-container {\n",
              "      display:flex;\n",
              "      flex-wrap:wrap;\n",
              "      gap: 12px;\n",
              "    }\n",
              "\n",
              "    .colab-df-convert {\n",
              "      background-color: #E8F0FE;\n",
              "      border: none;\n",
              "      border-radius: 50%;\n",
              "      cursor: pointer;\n",
              "      display: none;\n",
              "      fill: #1967D2;\n",
              "      height: 32px;\n",
              "      padding: 0 0 0 0;\n",
              "      width: 32px;\n",
              "    }\n",
              "\n",
              "    .colab-df-convert:hover {\n",
              "      background-color: #E2EBFA;\n",
              "      box-shadow: 0px 1px 2px rgba(60, 64, 67, 0.3), 0px 1px 3px 1px rgba(60, 64, 67, 0.15);\n",
              "      fill: #174EA6;\n",
              "    }\n",
              "\n",
              "    [theme=dark] .colab-df-convert {\n",
              "      background-color: #3B4455;\n",
              "      fill: #D2E3FC;\n",
              "    }\n",
              "\n",
              "    [theme=dark] .colab-df-convert:hover {\n",
              "      background-color: #434B5C;\n",
              "      box-shadow: 0px 1px 3px 1px rgba(0, 0, 0, 0.15);\n",
              "      filter: drop-shadow(0px 1px 2px rgba(0, 0, 0, 0.3));\n",
              "      fill: #FFFFFF;\n",
              "    }\n",
              "  </style>\n",
              "\n",
              "      <script>\n",
              "        const buttonEl =\n",
              "          document.querySelector('#df-6a129326-760f-4532-8198-b8b3f02854f9 button.colab-df-convert');\n",
              "        buttonEl.style.display =\n",
              "          google.colab.kernel.accessAllowed ? 'block' : 'none';\n",
              "\n",
              "        async function convertToInteractive(key) {\n",
              "          const element = document.querySelector('#df-6a129326-760f-4532-8198-b8b3f02854f9');\n",
              "          const dataTable =\n",
              "            await google.colab.kernel.invokeFunction('convertToInteractive',\n",
              "                                                     [key], {});\n",
              "          if (!dataTable) return;\n",
              "\n",
              "          const docLinkHtml = 'Like what you see? Visit the ' +\n",
              "            '<a target=\"_blank\" href=https://colab.research.google.com/notebooks/data_table.ipynb>data table notebook</a>'\n",
              "            + ' to learn more about interactive tables.';\n",
              "          element.innerHTML = '';\n",
              "          dataTable['output_type'] = 'display_data';\n",
              "          await google.colab.output.renderOutput(dataTable, element);\n",
              "          const docLink = document.createElement('div');\n",
              "          docLink.innerHTML = docLinkHtml;\n",
              "          element.appendChild(docLink);\n",
              "        }\n",
              "      </script>\n",
              "    </div>\n",
              "  </div>\n",
              "  "
            ]
          },
          "metadata": {},
          "execution_count": 8
        }
      ]
    },
    {
      "cell_type": "markdown",
      "source": [
        "It seems like the provided \"test.csv\" file from the competition does not have the true values for \"Survived\" (our target attribute). As you will see later, as we recreate Pawar's ADS, he imputes the values of \"Survived\" for the \"test\" dataframe and uses those imputed values to test his ADS. \n",
        "\n",
        "For our analysis purposes, we decided to split the provided train.csv into \"train\" and \"test\" dataframes so we have \"true values\" of survived. We will still use Pawar's imputed values for the \"Age\" column however as that is an attribute we wish to analyze further. \n",
        "\n"
      ],
      "metadata": {
        "id": "3Ftojio3ZTK7"
      }
    },
    {
      "cell_type": "code",
      "source": [
        "# Pawar merges train and test datasets for visualizations\n",
        "# We will use the merged dataframe for our own visualizations as well\n",
        "\n",
        "train.drop('PassengerId', axis=1, inplace=True)\n",
        "test.drop('PassengerId', axis=1, inplace=True)\n",
        "\n",
        "df = pd.concat([train, test]).reset_index(drop=True)"
      ],
      "metadata": {
        "id": "kXhxwuHRjuLr"
      },
      "execution_count": null,
      "outputs": []
    },
    {
      "cell_type": "markdown",
      "source": [
        "#Visualizations & Data Exploration\n"
      ],
      "metadata": {
        "id": "MydvkztpkNhB"
      }
    },
    {
      "cell_type": "markdown",
      "source": [
        "## Attribute Information & Null-values\n"
      ],
      "metadata": {
        "id": "Gnk4rIHKkTTC"
      }
    },
    {
      "cell_type": "code",
      "source": [
        "# Attribute information \n",
        "df.info()"
      ],
      "metadata": {
        "colab": {
          "base_uri": "https://localhost:8080/"
        },
        "id": "EQuofdrHkcP6",
        "outputId": "3f1b170d-1172-4a44-826e-cc8b404427a9"
      },
      "execution_count": null,
      "outputs": [
        {
          "output_type": "stream",
          "name": "stdout",
          "text": [
            "<class 'pandas.core.frame.DataFrame'>\n",
            "RangeIndex: 1309 entries, 0 to 1308\n",
            "Data columns (total 11 columns):\n",
            " #   Column    Non-Null Count  Dtype  \n",
            "---  ------    --------------  -----  \n",
            " 0   Survived  891 non-null    float64\n",
            " 1   Pclass    1309 non-null   int64  \n",
            " 2   Name      1309 non-null   object \n",
            " 3   Sex       1309 non-null   object \n",
            " 4   Age       1046 non-null   float64\n",
            " 5   SibSp     1309 non-null   int64  \n",
            " 6   Parch     1309 non-null   int64  \n",
            " 7   Ticket    1309 non-null   object \n",
            " 8   Fare      1308 non-null   float64\n",
            " 9   Cabin     295 non-null    object \n",
            " 10  Embarked  1307 non-null   object \n",
            "dtypes: float64(3), int64(3), object(5)\n",
            "memory usage: 112.6+ KB\n"
          ]
        }
      ]
    },
    {
      "cell_type": "markdown",
      "source": [
        "From this information, we may need to recode values for fairness analysis, namely \"Sex\", \"Age\", \"Fare\" and \"PClass\""
      ],
      "metadata": {
        "id": "1JK0W7Iqak0P"
      }
    },
    {
      "cell_type": "code",
      "source": [
        "# Number of missing data within each attribute \t\n",
        "df.isna().sum()"
      ],
      "metadata": {
        "colab": {
          "base_uri": "https://localhost:8080/"
        },
        "id": "wTSFs8_NkgLo",
        "outputId": "ea4990bd-7bdc-4778-f833-357fe0753624"
      },
      "execution_count": null,
      "outputs": [
        {
          "output_type": "execute_result",
          "data": {
            "text/plain": [
              "Survived     418\n",
              "Pclass         0\n",
              "Name           0\n",
              "Sex            0\n",
              "Age          263\n",
              "SibSp          0\n",
              "Parch          0\n",
              "Ticket         0\n",
              "Fare           1\n",
              "Cabin       1014\n",
              "Embarked       2\n",
              "dtype: int64"
            ]
          },
          "metadata": {},
          "execution_count": 11
        }
      ]
    },
    {
      "cell_type": "markdown",
      "source": [
        "We can also see here that the test.csv does not provide true values for \"Survived\" given the 418 missing values. \n",
        "\n",
        "It is unfortunate that \"Age\" has so many missing values since it is one attribute of interest for our analysis. Pawar imputes the missing values for this attribute, so we will use the same imputations for our analysis."
      ],
      "metadata": {
        "id": "u1QM1ivpa0Is"
      }
    },
    {
      "cell_type": "code",
      "source": [
        "# Remapping attributes for visualizations\n",
        "# We decided to use the same labels as Pawar to make sure our visualizations are replicable and accurate\n",
        "\n",
        "a = train[['Survived', 'Sex', 'Pclass', 'SibSp', 'Age']].dropna()\n",
        "a['Pclass']= a['Pclass'].map({1:'1 Pclass',2:'2 Pclass',3:'3 Pclass'})\n",
        "a['Survived'] = a['Survived'].map({1:'Survived',0: 'Not Survived'})\n",
        "a['SibSp']= a['SibSp'].map(lambda x: str(x)+' SibSp')"
      ],
      "metadata": {
        "id": "qm7jcNMMqMB8"
      },
      "execution_count": null,
      "outputs": []
    },
    {
      "cell_type": "markdown",
      "source": [
        "## Distributions of each Attribute\n"
      ],
      "metadata": {
        "id": "pBqWv_0PlTq9"
      }
    },
    {
      "cell_type": "code",
      "source": [
        "# Histogram plot categorical attributes of interest\n",
        "\n",
        "sns.set(style=\"darkgrid\")\n",
        "\n",
        "fig, axs = plt.subplots(1, 3, figsize=(35, 6))\n",
        "\n",
        "fig.suptitle('Titanic Data [Survived, Pclass, Sex] Distribution')\n",
        "\n",
        "sns.histplot(data=df, x=\"Survived\", color=\"skyblue\", bins=2, ax=axs[0])\n",
        "axs[0].set_title('Survivor Distribution')\n",
        "\n",
        "sns.histplot(data=df, x=\"Pclass\", color=\"darkseagreen\", bins=3, ax=axs[1])\n",
        "axs[1].set_title('Passenger Class Distribution')\n",
        "\n",
        "sns.histplot(data=df, x=\"Sex\", color=\"cornsilk\", ax=axs[2])\n",
        "axs[2].set_title('Sex Distribution')\n",
        "\n",
        "plt.show()"
      ],
      "metadata": {
        "colab": {
          "base_uri": "https://localhost:8080/",
          "height": 148
        },
        "id": "8qdOFskilWcg",
        "outputId": "8331d6bd-11bb-4e9b-e5f2-588bcd830f6a"
      },
      "execution_count": null,
      "outputs": [
        {
          "output_type": "display_data",
          "data": {
            "text/plain": [
              "<Figure size 2520x432 with 3 Axes>"
            ],
            "image/png": "[encoded data removed]"
          },
          "metadata": {}
        }
      ]
    },
    {
      "cell_type": "markdown",
      "source": [
        "It appears here that there were almost twice as many people who did not survivde, who were in the 3rd Passenger class and who were male. These may tell us more information about what we choose to be our protected atrributes, privileged groups and unprivileged groups"
      ],
      "metadata": {
        "id": "JGLJfI1XbkL8"
      }
    },
    {
      "cell_type": "code",
      "source": [
        "# Histogram plot categorical attributes of interest\n",
        "\n",
        "fig, axs = plt.subplots(1, 3, figsize=(35, 6))\n",
        "\n",
        "fig.suptitle('Titanic Data [Embarked, SibSp, Parch] Distribution')\n",
        "\n",
        "sns.histplot(data=df, x=\"Embarked\", color=\"skyblue\", ax=axs[0])\n",
        "axs[0].set_title('Embarked Location Distribution')\n",
        "\n",
        "sns.histplot(data=df, x=\"SibSp\", color=\"darkseagreen\", bins=10, ax=axs[1])\n",
        "axs[1].set_title('Sibling/Spouse Count Distribution')\n",
        "\n",
        "sns.histplot(data=df, x=\"Parch\", color=\"cornsilk\", bins=10, ax=axs[2])\n",
        "axs[2].set_title('Parent/Child Count Distribution')\n",
        "\n",
        "plt.show()"
      ],
      "metadata": {
        "colab": {
          "base_uri": "https://localhost:8080/",
          "height": 148
        },
        "id": "6x3aobvSoLCu",
        "outputId": "d192f449-3587-4ca5-b5db-e9c89d31c94d"
      },
      "execution_count": null,
      "outputs": [
        {
          "output_type": "display_data",
          "data": {
            "text/plain": [
              "<Figure size 2520x432 with 3 Axes>"
            ],
            "image/png": "[encoded data removed]"
          },
          "metadata": {}
        }
      ]
    },
    {
      "cell_type": "markdown",
      "source": [
        "These categorical values are skewed far to the right. We're not sure if we want to use these for our fairnss analysis given the number of null values and lack of relevance in contributing to survival."
      ],
      "metadata": {
        "id": "VrxnOLZkcVq3"
      }
    },
    {
      "cell_type": "code",
      "source": [
        "# Histogram plot numerical attributes of interest \n",
        "\n",
        "fig, axs = plt.subplots(1, 2, figsize=(35, 6))\n",
        "\n",
        "fig.suptitle('Titanic Data [Fare, Age] Distribution')\n",
        "\n",
        "sns.histplot(data=df, x=\"Fare\", color=\"skyblue\", ax=axs[0])\n",
        "axs[0].set_title('Fare Distribution')\n",
        "\n",
        "sns.histplot(data=df, x=\"Age\", color=\"darkseagreen\", ax=axs[1])\n",
        "axs[1].set_title('Age Distribution')\n",
        "\n",
        "\n",
        "plt.show()"
      ],
      "metadata": {
        "colab": {
          "base_uri": "https://localhost:8080/",
          "height": 148
        },
        "id": "SfECjQzJpLW3",
        "outputId": "f78af1b4-64ec-4336-b4c9-e8f916c5667d"
      },
      "execution_count": null,
      "outputs": [
        {
          "output_type": "display_data",
          "data": {
            "text/plain": [
              "<Figure size 2520x432 with 2 Axes>"
            ],
            "image/png": "[encoded data removed]"
          },
          "metadata": {}
        }
      ]
    },
    {
      "cell_type": "markdown",
      "source": [
        "These distributions tell us that the majority of passengers were aged between 20 and 30 years of age. We may want to look at the survival rate of different age groups later. \n",
        "\n",
        "The fare distribution is extremely skewed to the right as well. There may be some data errors given that some passengers paid nearly 250 dollars for a ticket! That's almost 7.5k dollars today!"
      ],
      "metadata": {
        "id": "CkeftXA6cqe6"
      }
    },
    {
      "cell_type": "code",
      "source": [
        "# Boxplot numerical attributes of interest \n",
        "\n",
        "sns.set(rc={'figure.figsize':(8,10)})\n",
        "\n",
        "sns.boxplot(y=df[\"Age\"], x=df[\"Survived\"], palette=\"Blues\", width=0.3)\n",
        "plt.show()\n",
        "\n",
        "sns.boxplot(y=df[\"Fare\"], x=df[\"Survived\"], palette=\"Blues\", width=0.3)\n",
        "plt.show()"
      ],
      "metadata": {
        "colab": {
          "base_uri": "https://localhost:8080/",
          "height": 1000
        },
        "id": "m4wb9pTurEb6",
        "outputId": "63118eae-b831-4cd2-8d7b-ee1236137858"
      },
      "execution_count": null,
      "outputs": [
        {
          "output_type": "display_data",
          "data": {
            "text/plain": [
              "<Figure size 576x720 with 1 Axes>"
            ],
            "image/png": "[encoded data removed]"
          },
          "metadata": {}
        },
        {
          "output_type": "display_data",
          "data": {
            "text/plain": [
              "<Figure size 576x720 with 1 Axes>"
            ],
            "image/png": "[encoded data removed]"
          },
          "metadata": {}
        }
      ]
    },
    {
      "cell_type": "markdown",
      "source": [
        "These box plots tell us a lot more about the outliers and errors we observed in the fare distribution. Majority of the ticket priced were below 50 dollars and anything abve 100 dollars is considered an outlier. \n",
        "\n",
        "For the age distribution, it seems the distribution of those who survived are slightly younger than those who did not. However, those who did not survive still have a comparable distribution to those who did. "
      ],
      "metadata": {
        "id": "ssYYJkG9ddQG"
      }
    },
    {
      "cell_type": "code",
      "source": [
        "# Plot the distirbution of female and male passengers who survived and passengers who did not \n",
        "\n",
        "plt.figure(figsize=(15,10))\n",
        "sns.violinplot(x =\"Sex\", y =\"Age\", hue =\"Survived\", data = train, palette=\"Blues\", split = True).set_title('Survivor Age Distribution')\n",
        "plt.show()"
      ],
      "metadata": {
        "colab": {
          "base_uri": "https://localhost:8080/",
          "height": 447
        },
        "id": "JsFo9WvWsxHy",
        "outputId": "cb4476bb-6584-4647-e311-564765c42429"
      },
      "execution_count": null,
      "outputs": [
        {
          "output_type": "display_data",
          "data": {
            "text/plain": [
              "<Figure size 1080x720 with 1 Axes>"
            ],
            "image/png": "[encoded data removed]"
          },
          "metadata": {}
        }
      ]
    },
    {
      "cell_type": "markdown",
      "source": [
        "This plot is the most interesting and tells us the most about our privileged and unprivileged groups. It seems that young adult males did not survive as much as young adult females. Younger passengers (male or female) were given the priority of surivial. As Pawar notes as well, these distributions fall into the line of \"saving the women and children first\" "
      ],
      "metadata": {
        "id": "EDxFqOVIeNz6"
      }
    },
    {
      "cell_type": "code",
      "source": [
        "# Plot the age distirbution of passengers who survived and passengers who did not \n",
        "sns.barplot(x = 'Pclass', y = 'Survived', data = train)"
      ],
      "metadata": {
        "colab": {
          "base_uri": "https://localhost:8080/",
          "height": 629
        },
        "id": "tub3N5X00SF8",
        "outputId": "5daeeae1-8634-4d97-8b69-45d9060ac096"
      },
      "execution_count": null,
      "outputs": [
        {
          "output_type": "execute_result",
          "data": {
            "text/plain": [
              "<matplotlib.axes._subplots.AxesSubplot at 0x7f1bcc3bc450>"
            ]
          },
          "metadata": {},
          "execution_count": 18
        },
        {
          "output_type": "display_data",
          "data": {
            "text/plain": [
              "<Figure size 576x720 with 1 Axes>"
            ],
            "image/png": "[encoded data removed]"
          },
          "metadata": {}
        }
      ]
    },
    {
      "cell_type": "markdown",
      "source": [
        "This plot shows us the rate of survival for different passenger ticket classes. 1 being the best and 3 being the worst. As it is clear here, those who were in 1st class or 2nd class had a higher rate of surivial than those with 3rd class tickets. "
      ],
      "metadata": {
        "id": "nEoruXIifODH"
      }
    },
    {
      "cell_type": "code",
      "source": [
        "# Histogram plot of passengers by Title following Pawar's Analysis\n",
        "a = df.copy()\n",
        "\n",
        "# Create new column for Title by analyzing Name column\n",
        "a['Title'] = a['Name'].apply(lambda x: x.split(',')[1].split('.')[0].strip())\n",
        "\n",
        "a['Title'].replace({'Mlle': 'Miss', 'Mme': 'Mrs', 'Ms': 'Miss'}, inplace = True)\n",
        "a['Title'].replace(['Don','Dona', 'Rev', 'Dr', 'Major', 'Lady', 'Sir', 'Col', 'Capt', 'the Countess', 'Jonkheer'],'Rare Title', inplace = True)\n",
        "\n",
        "# Create histogram\n",
        "fig, (ax1, ax2) = plt.subplots(1, 2, figsize = (10, 4))\n",
        "\n",
        "sns.countplot(x = 'Title', data = a,  ax = ax1, palette=\"Blues\")\n",
        "ax1.set_title('Passenger Count by Title')\n",
        "ax1.set_ylabel('Number of Passengers')\n",
        "\n",
        "# Histogram of Survivors Rate by Title\n",
        "sns.barplot(x = 'Title', y = 'Survived', data = a, ci = None, ax = ax2, palette=\"Blues\")\n",
        "ax2.set_title('Survival Rate by Title')\n",
        "ax2.set_ylabel('Survival Rate');\n",
        "\n",
        "del a"
      ],
      "metadata": {
        "colab": {
          "base_uri": "https://localhost:8080/",
          "height": 301
        },
        "id": "08GlSqIEtMgh",
        "outputId": "26d15526-69e4-4b79-9553-b6794ef22ba3"
      },
      "execution_count": null,
      "outputs": [
        {
          "output_type": "display_data",
          "data": {
            "text/plain": [
              "<Figure size 720x288 with 2 Axes>"
            ],
            "image/png": "[encoded data removed]"
          },
          "metadata": {}
        }
      ]
    },
    {
      "cell_type": "markdown",
      "source": [
        "This visualization was created by Pawar and shows the distribution of surivors given their title. We thought it was interesting to include as a visualization, but we decided not to use titles in our fairness analysis given the number of uncommon/rare titles. However, this does tell us that men (yet again) had the lowest survival rate, even though the greatest number of passengers are men. "
      ],
      "metadata": {
        "id": "MKaaUEQSfujC"
      }
    },
    {
      "cell_type": "code",
      "source": [
        "# Histogram of Survivor proportion to Fare Price following Pawar's Analysis\n",
        "\n",
        "sns.set(rc={'figure.figsize':(8,8)})\n",
        "a = df.copy()\n",
        "\n",
        "# Divide Fare into 4 bins\n",
        "a['Fare_Range'] = pd.qcut(train['Fare'], 4, labels= ['Low', 'Median', 'High', 'Very High'] )\n",
        "\n",
        "sns.barplot(x='Fare_Range', y='Survived', data=a, palette=\"Blues\").set_title('Bar Plot of Fares to Survivors chance')\n",
        "\n",
        "del a"
      ],
      "metadata": {
        "colab": {
          "base_uri": "https://localhost:8080/",
          "height": 518
        },
        "id": "k-jwsp6Xt1ke",
        "outputId": "bb62c137-10a5-4ca0-f3f7-41b7e8be9217"
      },
      "execution_count": null,
      "outputs": [
        {
          "output_type": "display_data",
          "data": {
            "text/plain": [
              "<Figure size 576x576 with 1 Axes>"
            ],
            "image/png": "[encoded data removed]"
          },
          "metadata": {}
        }
      ]
    },
    {
      "cell_type": "markdown",
      "source": [
        "This visualization shows us the distribution of survival given the fare price. Pawar bins these values, and we decided to do the same given the large variation of fare prices and outliers. Here, we decided that when comparing fare bins, those with a low or median fare range were underprivileged while those with high or very high fare ranges were privileged. "
      ],
      "metadata": {
        "id": "V1ZPwoZqgaWs"
      }
    },
    {
      "cell_type": "markdown",
      "source": [
        "## Correlation Matrix\n"
      ],
      "metadata": {
        "id": "h0Zo6SobsUOy"
      }
    },
    {
      "cell_type": "code",
      "source": [
        "# Correlational Matrix for Attributes in Dataset following Pawar's Analysis\n",
        "\n",
        "sns.set(font_scale=1.1)\n",
        "\n",
        "corr = df.corr()\n",
        "\n",
        "plt.figure(figsize=(18,15))\n",
        "\n",
        "sns.heatmap(corr,\n",
        "            annot=True,\n",
        "            cmap='coolwarm',\n",
        "            fmt='.1f',\n",
        "            square=True,\n",
        "            linewidth=1)\n",
        "plt.show()"
      ],
      "metadata": {
        "colab": {
          "base_uri": "https://localhost:8080/",
          "height": 569
        },
        "id": "8OqYWNicsVy-",
        "outputId": "e5a87ef7-21bb-480d-8677-8cd1c32cf0f2"
      },
      "execution_count": null,
      "outputs": [
        {
          "output_type": "display_data",
          "data": {
            "text/plain": [
              "<Figure size 1296x1080 with 2 Axes>"
            ],
            "image/png": "[encoded data removed]"
          },
          "metadata": {}
        }
      ]
    },
    {
      "cell_type": "markdown",
      "source": [
        "From this correlational matrix, we see that surivial has the strongest correlations with Fare and Passenger Class, which we will choose to analyze fairness later"
      ],
      "metadata": {
        "id": "dFMjxhaLhBlM"
      }
    },
    {
      "cell_type": "markdown",
      "source": [
        "#Adding, Dropping Features of Important following Pawar's ADS\n",
        "\n",
        "Pawar decides to drop and encode the data in a few ways before training his ADS. To re-create his ADS, we decided to follow his same methods."
      ],
      "metadata": {
        "id": "48dEZTnhkOOx"
      }
    },
    {
      "cell_type": "code",
      "source": [
        "pd.DataFrame.from_dict(\n",
        "    orient='index',\n",
        "    columns = ['Attribute','Important','Action'],\n",
        "    data={\n",
        "    1: ['PassengerId', 'No', 'Discard'],\n",
        "    2: ['Sex', 'Yes', 'Encode'],\n",
        "    3: ['Age', 'Yes', 'Bin and Encode'],\n",
        "    4: ['Port of Embarkation','No', 'Discard'],\n",
        "    5: ['Pclass', 'Yes', '-'],\n",
        "    6: ['Fare', 'Yes', 'Bin and Encode'],\n",
        "    7: ['SibSp and Parch', 'Yes', 'Engineer \"Relatives\"'],\n",
        "    8: ['Name', 'Yes', 'Engineer \"Title\" and Encode'],\n",
        "    9: ['Cabin', 'No', 'Discard'],\n",
        "    10: ['Ticket', 'Yes', 'Engineer \"Family_Survival\"']})"
      ],
      "metadata": {
        "colab": {
          "base_uri": "https://localhost:8080/",
          "height": 363
        },
        "id": "3FsyEilbkcJ6",
        "outputId": "145e0615-902f-48ec-9a7b-3625e5e27c18"
      },
      "execution_count": null,
      "outputs": [
        {
          "output_type": "execute_result",
          "data": {
            "text/plain": [
              "              Attribute Important                       Action\n",
              "1           PassengerId        No                      Discard\n",
              "2                   Sex       Yes                       Encode\n",
              "3                   Age       Yes               Bin and Encode\n",
              "4   Port of Embarkation        No                      Discard\n",
              "5                Pclass       Yes                            -\n",
              "6                  Fare       Yes               Bin and Encode\n",
              "7       SibSp and Parch       Yes         Engineer \"Relatives\"\n",
              "8                  Name       Yes  Engineer \"Title\" and Encode\n",
              "9                 Cabin        No                      Discard\n",
              "10               Ticket       Yes   Engineer \"Family_Survival\""
            ],
            "text/html": [
              "\n",
              "  <div id=\"df-9081fead-227e-496a-bf5f-5c533c8fad89\">\n",
              "    <div class=\"colab-df-container\">\n",
              "      <div>\n",
              "<style scoped>\n",
              "    .dataframe tbody tr th:only-of-type {\n",
              "        vertical-align: middle;\n",
              "    }\n",
              "\n",
              "    .dataframe tbody tr th {\n",
              "        vertical-align: top;\n",
              "    }\n",
              "\n",
              "    .dataframe thead th {\n",
              "        text-align: right;\n",
              "    }\n",
              "</style>\n",
              "<table border=\"1\" class=\"dataframe\">\n",
              "  <thead>\n",
              "    <tr style=\"text-align: right;\">\n",
              "      <th></th>\n",
              "      <th>Attribute</th>\n",
              "      <th>Important</th>\n",
              "      <th>Action</th>\n",
              "    </tr>\n",
              "  </thead>\n",
              "  <tbody>\n",
              "    <tr>\n",
              "      <th>1</th>\n",
              "      <td>PassengerId</td>\n",
              "      <td>No</td>\n",
              "      <td>Discard</td>\n",
              "    </tr>\n",
              "    <tr>\n",
              "      <th>2</th>\n",
              "      <td>Sex</td>\n",
              "      <td>Yes</td>\n",
              "      <td>Encode</td>\n",
              "    </tr>\n",
              "    <tr>\n",
              "      <th>3</th>\n",
              "      <td>Age</td>\n",
              "      <td>Yes</td>\n",
              "      <td>Bin and Encode</td>\n",
              "    </tr>\n",
              "    <tr>\n",
              "      <th>4</th>\n",
              "      <td>Port of Embarkation</td>\n",
              "      <td>No</td>\n",
              "      <td>Discard</td>\n",
              "    </tr>\n",
              "    <tr>\n",
              "      <th>5</th>\n",
              "      <td>Pclass</td>\n",
              "      <td>Yes</td>\n",
              "      <td>-</td>\n",
              "    </tr>\n",
              "    <tr>\n",
              "      <th>6</th>\n",
              "      <td>Fare</td>\n",
              "      <td>Yes</td>\n",
              "      <td>Bin and Encode</td>\n",
              "    </tr>\n",
              "    <tr>\n",
              "      <th>7</th>\n",
              "      <td>SibSp and Parch</td>\n",
              "      <td>Yes</td>\n",
              "      <td>Engineer \"Relatives\"</td>\n",
              "    </tr>\n",
              "    <tr>\n",
              "      <th>8</th>\n",
              "      <td>Name</td>\n",
              "      <td>Yes</td>\n",
              "      <td>Engineer \"Title\" and Encode</td>\n",
              "    </tr>\n",
              "    <tr>\n",
              "      <th>9</th>\n",
              "      <td>Cabin</td>\n",
              "      <td>No</td>\n",
              "      <td>Discard</td>\n",
              "    </tr>\n",
              "    <tr>\n",
              "      <th>10</th>\n",
              "      <td>Ticket</td>\n",
              "      <td>Yes</td>\n",
              "      <td>Engineer \"Family_Survival\"</td>\n",
              "    </tr>\n",
              "  </tbody>\n",
              "</table>\n",
              "</div>\n",
              "      <button class=\"colab-df-convert\" onclick=\"convertToInteractive('df-9081fead-227e-496a-bf5f-5c533c8fad89')\"\n",
              "              title=\"Convert this dataframe to an interactive table.\"\n",
              "              style=\"display:none;\">\n",
              "        \n",
              "  <svg xmlns=\"http://www.w3.org/2000/svg\" height=\"24px\"viewBox=\"0 0 24 24\"\n",
              "       width=\"24px\">\n",
              "    <path d=\"M0 0h24v24H0V0z\" fill=\"none\"/>\n",
              "    <path d=\"M18.56 5.44l.94 2.06.94-2.06 2.06-.94-2.06-.94-.94-2.06-.94 2.06-2.06.94zm-11 1L8.5 8.5l.94-2.06 2.06-.94-2.06-.94L8.5 2.5l-.94 2.06-2.06.94zm10 10l.94 2.06.94-2.06 2.06-.94-2.06-.94-.94-2.06-.94 2.06-2.06.94z\"/><path d=\"M17.41 7.96l-1.37-1.37c-.4-.4-.92-.59-1.43-.59-.52 0-1.04.2-1.43.59L10.3 9.45l-7.72 7.72c-.78.78-.78 2.05 0 2.83L4 21.41c.39.39.9.59 1.41.59.51 0 1.02-.2 1.41-.59l7.78-7.78 2.81-2.81c.8-.78.8-2.07 0-2.86zM5.41 20L4 18.59l7.72-7.72 1.47 1.35L5.41 20z\"/>\n",
              "  </svg>\n",
              "      </button>\n",
              "      \n",
              "  <style>\n",
              "    .colab-df-container {\n",
              "      display:flex;\n",
              "      flex-wrap:wrap;\n",
              "      gap: 12px;\n",
              "    }\n",
              "\n",
              "    .colab-df-convert {\n",
              "      background-color: #E8F0FE;\n",
              "      border: none;\n",
              "      border-radius: 50%;\n",
              "      cursor: pointer;\n",
              "      display: none;\n",
              "      fill: #1967D2;\n",
              "      height: 32px;\n",
              "      padding: 0 0 0 0;\n",
              "      width: 32px;\n",
              "    }\n",
              "\n",
              "    .colab-df-convert:hover {\n",
              "      background-color: #E2EBFA;\n",
              "      box-shadow: 0px 1px 2px rgba(60, 64, 67, 0.3), 0px 1px 3px 1px rgba(60, 64, 67, 0.15);\n",
              "      fill: #174EA6;\n",
              "    }\n",
              "\n",
              "    [theme=dark] .colab-df-convert {\n",
              "      background-color: #3B4455;\n",
              "      fill: #D2E3FC;\n",
              "    }\n",
              "\n",
              "    [theme=dark] .colab-df-convert:hover {\n",
              "      background-color: #434B5C;\n",
              "      box-shadow: 0px 1px 3px 1px rgba(0, 0, 0, 0.15);\n",
              "      filter: drop-shadow(0px 1px 2px rgba(0, 0, 0, 0.3));\n",
              "      fill: #FFFFFF;\n",
              "    }\n",
              "  </style>\n",
              "\n",
              "      <script>\n",
              "        const buttonEl =\n",
              "          document.querySelector('#df-9081fead-227e-496a-bf5f-5c533c8fad89 button.colab-df-convert');\n",
              "        buttonEl.style.display =\n",
              "          google.colab.kernel.accessAllowed ? 'block' : 'none';\n",
              "\n",
              "        async function convertToInteractive(key) {\n",
              "          const element = document.querySelector('#df-9081fead-227e-496a-bf5f-5c533c8fad89');\n",
              "          const dataTable =\n",
              "            await google.colab.kernel.invokeFunction('convertToInteractive',\n",
              "                                                     [key], {});\n",
              "          if (!dataTable) return;\n",
              "\n",
              "          const docLinkHtml = 'Like what you see? Visit the ' +\n",
              "            '<a target=\"_blank\" href=https://colab.research.google.com/notebooks/data_table.ipynb>data table notebook</a>'\n",
              "            + ' to learn more about interactive tables.';\n",
              "          element.innerHTML = '';\n",
              "          dataTable['output_type'] = 'display_data';\n",
              "          await google.colab.output.renderOutput(dataTable, element);\n",
              "          const docLink = document.createElement('div');\n",
              "          docLink.innerHTML = docLinkHtml;\n",
              "          element.appendChild(docLink);\n",
              "        }\n",
              "      </script>\n",
              "    </div>\n",
              "  </div>\n",
              "  "
            ]
          },
          "metadata": {},
          "execution_count": 22
        }
      ]
    },
    {
      "cell_type": "markdown",
      "source": [
        "## Encoding \n",
        "* Fare_Bin\n",
        "* Title\n",
        "* Sex"
      ],
      "metadata": {
        "id": "nhEn-eb4lazh"
      }
    },
    {
      "cell_type": "code",
      "source": [
        "# This part of the code is copied from Pawar's Analysis to match the accuracy of his final model\n",
        "# The code for 'Family_Survival' comes from this kernel:\n",
        "# https://www.kaggle.com/konstantinmasich/titanic-0-82-0-83/notebook\n",
        "\n",
        "train = pd.read_csv('titanic/train.csv')\n",
        "test = pd.read_csv('titanic/test.csv')\n",
        "y = train.Survived\n",
        "\n",
        "# Merging train data and test data for future feature engineering:\n",
        "all_data = train.append(test)\n",
        "all_data.reset_index(inplace=True, drop=True)\n",
        "\n",
        "all_data['Last_Name'] = all_data['Name'].apply(lambda x: str.split(x, ',')[0])\n",
        "all_data['Fare'].fillna(all_data['Fare'].mean(), inplace = True)\n",
        "\n",
        "default_sr_value = 0.5\n",
        "all_data['Family_Survival'] = default_sr_value\n",
        "\n",
        "for grp, grp_df in all_data[['Survived','Name', 'Last_Name', 'Fare', 'Ticket', 'PassengerId', 'SibSp', 'Parch', 'Age', 'Cabin']].groupby(['Last_Name', 'Fare']):\n",
        "    \n",
        "    if (len(grp_df) != 1):  # A Family group is found.\n",
        "        for ind, row in grp_df.iterrows():\n",
        "            smax = grp_df.drop(ind)['Survived'].max()\n",
        "            smin = grp_df.drop(ind)['Survived'].min()\n",
        "            passID = row['PassengerId']\n",
        "            \n",
        "            if (smax == 1.0):\n",
        "                all_data.loc[all_data['PassengerId'] == passID, 'Family_Survival'] = 1\n",
        "            elif (smin==0.0):\n",
        "                all_data.loc[all_data['PassengerId'] == passID, 'Family_Survival'] = 0\n",
        "\n",
        "for _, grp_df in all_data.groupby('Ticket'):\n",
        "    \n",
        "    if (len(grp_df) != 1):\n",
        "        for ind, row in grp_df.iterrows():\n",
        "            if (row['Family_Survival'] == 0) | (row['Family_Survival']== 0.5):\n",
        "                smax = grp_df.drop(ind)['Survived'].max()\n",
        "                smin = grp_df.drop(ind)['Survived'].min()\n",
        "                passID = row['PassengerId']\n",
        "                \n",
        "                if (smax == 1.0):\n",
        "                    all_data.loc[all_data['PassengerId'] == passID, 'Family_Survival'] = 1\n",
        "                elif (smin==0.0):\n",
        "                    all_data.loc[all_data['PassengerId'] == passID, 'Family_Survival'] = 0\n",
        "                    \n",
        "#####################################################################################\n",
        "\n",
        "all_data['Fare_Bin'] = pd.qcut(all_data['Fare'], 5)\n",
        "all_data['Relatives'] = all_data['SibSp'] + all_data['Parch']\n",
        "\n",
        "#####################################################################################\n",
        "\n",
        "all_data['Title'] = all_data['Name'].apply(lambda x: x.split(',')[1].split('.')[0].strip())\n",
        "all_data['Title'].replace({'Mlle':'Miss', 'Mme':'Mrs', 'Ms':'Miss'}, inplace = True)\n",
        "all_data['Title'].replace(['Don', 'Rev', 'Dr', 'Major', 'Lady', 'Sir', 'Col', 'Capt', 'the Countess', 'Jonkheer', 'Dona'],\n",
        "                           'Rare Title', inplace = True)    "
      ],
      "metadata": {
        "id": "7MiRkRzdk-RP"
      },
      "execution_count": null,
      "outputs": []
    },
    {
      "cell_type": "code",
      "source": [
        "for feature in ['Fare_Bin', 'Title', 'Sex']:\n",
        "    all_data[feature]= all_data[feature].astype('category').cat.codes"
      ],
      "metadata": {
        "id": "l9EjBSs6lfKK"
      },
      "execution_count": null,
      "outputs": []
    },
    {
      "cell_type": "markdown",
      "source": [
        "## Discard all unnecessary Features"
      ],
      "metadata": {
        "id": "gskMVAPflhsK"
      }
    },
    {
      "cell_type": "code",
      "source": [
        "all_data.drop(['PassengerId', 'Fare', 'Name', 'SibSp', 'Parch', 'Ticket', 'Cabin', 'Title', 'Last_Name', 'Embarked'], axis = 1, inplace = True)\n",
        "\n",
        "print ('Done!')"
      ],
      "metadata": {
        "colab": {
          "base_uri": "https://localhost:8080/"
        },
        "id": "nsRyVUZ5llfr",
        "outputId": "11afc9e1-b910-4e62-fa2e-277261ad6fab"
      },
      "execution_count": null,
      "outputs": [
        {
          "output_type": "stream",
          "name": "stdout",
          "text": [
            "Done!\n"
          ]
        }
      ]
    },
    {
      "cell_type": "markdown",
      "source": [
        "## Imputing Age using IterativeImputer\n",
        "\n",
        "Pawar uses an IterativeImputer to impute null values in the entire dataset (train and test). We decided to allow imputations for \"Age\" in our own analysis, but use only true values from the train dataset (not use imputed values for Survived). \n",
        "\n",
        "The following section will be Pawar's methods to creating his ADS using all imputed values. "
      ],
      "metadata": {
        "id": "5x_bbRQUlqaN"
      }
    },
    {
      "cell_type": "code",
      "source": [
        "a = IterativeImputer(random_state=0).fit_transform(all_data)\n",
        "\n",
        "all_data = pd.DataFrame(a, columns =all_data.columns).convert_dtypes()\n",
        "del a\n",
        "\n",
        "#For our own analysis, we made a copy of the dataset before Pawar removes attributes of interest \n",
        "analysis_data = all_data.copy()\n",
        "\n",
        "# Age billing and Encoding\n",
        "all_data['Age_Bin'] = pd.qcut(all_data['Age'], 5).astype('category').cat.codes\n",
        "\n",
        "all_data.drop('Age',axis=1, inplace=True)\n",
        "\n",
        "all_data['Survived'] = all_data['Survived'].astype('int')\n",
        "analysis_data['Survived'] = analysis_data['Survived'].astype('int')"
      ],
      "metadata": {
        "id": "baCD6gfHlvV2"
      },
      "execution_count": null,
      "outputs": []
    },
    {
      "cell_type": "markdown",
      "source": [
        "# Recreating Pawar's Model\n",
        "\n",
        "The following code is a recreation of Pawar's ADS model using his methods"
      ],
      "metadata": {
        "id": "tKaAIHR2l6YJ"
      }
    },
    {
      "cell_type": "code",
      "source": [
        "# split train test data\n",
        "\n",
        "train = all_data[:891]\n",
        "\n",
        "X_train = train.drop('Survived', 1)\n",
        "y_train = train['Survived'].astype('int')\n",
        "\n",
        "\n",
        "#######################################################\n",
        "\n",
        "X_test = all_data[891:]\n",
        "\n",
        "X_test.drop('Survived', axis = 1, inplace = True)\n",
        "\n",
        "# Standardize data\n",
        "std_scaler = StandardScaler()\n",
        "\n",
        "\n",
        "X_train_scaled = std_scaler.fit_transform(X_train)  # fit_transform the X_train\n",
        "X_test_scaled = std_scaler.transform(X_test)        # only transform the X_test"
      ],
      "metadata": {
        "colab": {
          "base_uri": "https://localhost:8080/"
        },
        "id": "U98QONn38nQJ",
        "outputId": "a7e21872-36d6-455e-83e6-f0fdd02d3d94"
      },
      "execution_count": null,
      "outputs": [
        {
          "output_type": "stream",
          "name": "stderr",
          "text": [
            "/usr/local/lib/python3.7/dist-packages/ipykernel_launcher.py:5: FutureWarning: In a future version of pandas all arguments of DataFrame.drop except for the argument 'labels' will be keyword-only\n",
            "  \"\"\"\n",
            "/usr/local/lib/python3.7/dist-packages/pandas/core/frame.py:4913: SettingWithCopyWarning: \n",
            "A value is trying to be set on a copy of a slice from a DataFrame\n",
            "\n",
            "See the caveats in the documentation: https://pandas.pydata.org/pandas-docs/stable/user_guide/indexing.html#returning-a-view-versus-a-copy\n",
            "  errors=errors,\n"
          ]
        }
      ]
    },
    {
      "cell_type": "markdown",
      "source": [
        "## Baseline Models Pawar uses \n",
        "The classifiers are:\n",
        "\n",
        "* Gaussian Naive Bayes ,\n",
        "* Logistic Regression,\n",
        "* K-Nearest Neighbor Classifier,\n",
        "* Support Vector Classifier,\n",
        "* Decision Tree Classifier,\n",
        "* Random Forest Classifier,\n",
        "* Xtreme Gradient Boosting Classifier, and\n",
        "* AdaBoost classifier.\n",
        "\n",
        "For the baseline models, Pawar uses their default parameters and evaluate their (mean) accuracy by performing k-fold cross validation."
      ],
      "metadata": {
        "id": "WIWUQQwUmIEY"
      }
    },
    {
      "cell_type": "code",
      "source": [
        "def model_check(X, y, estimators, cv=None):\n",
        "    model_df = pd.DataFrame(columns = ['Model Name', 'Test Accuracy Mean', 'Train Accuracy Mean', 'Test Std', 'Time'])\n",
        "\n",
        "    for row_index, clf in enumerate(estimators):\n",
        "\n",
        "        cv_results = cross_validate(\n",
        "            clf,\n",
        "            X,\n",
        "            y,\n",
        "            cv=cv,\n",
        "            scoring='accuracy',\n",
        "            return_train_score=True,\n",
        "            n_jobs=-1)\n",
        "\n",
        "        model_df.loc[row_index] = [\n",
        "            clf.__class__.__name__,\n",
        "            cv_results['test_score'].mean(),\n",
        "            cv_results['train_score'].mean(),\n",
        "            cv_results['test_score'].std(),\n",
        "            cv_results['fit_time'].mean()]\n",
        "        \n",
        "        #model_table.loc[row_index, 'clf Parameters'] = str(clf.get_params())\n",
        "\n",
        "    model_df.sort_values(by=['Test Accuracy Mean'],\n",
        "                            ascending=False,\n",
        "                            inplace=True)\n",
        "    # Accuracy score DataFrame\n",
        "    display(model_df.style.background_gradient(cmap='summer_r'))\n",
        "    \n",
        "    # accuracy score graph\n",
        "    sns.barplot('Test Accuracy Mean',\n",
        "                'Model Name',\n",
        "                data=model_df,\n",
        "                orient='h',\n",
        "                **{'xerr': model_df['Test Std']})\n",
        "    plt.title('Cross Validation Scores')\n",
        "    plt.xlim([0.725, 0.88])\n",
        "    plt.show()\n",
        "\n",
        "    #return model_df"
      ],
      "metadata": {
        "id": "NMcqgFzDmGTn"
      },
      "execution_count": null,
      "outputs": []
    },
    {
      "cell_type": "code",
      "source": [
        "# Step 1: create a map containing all estimators with their default parameters\n",
        "clf_list = [\n",
        "    LogisticRegression(random_state = 1),\n",
        "    KNeighborsClassifier(), \n",
        "    SVC(random_state = 1, probability = True),\n",
        "    DecisionTreeClassifier(random_state = 1), \n",
        "    RandomForestClassifier(random_state = 1),\n",
        "    XGBClassifier(random_state = 1, use_label_encoder=False),\n",
        "    LGBMClassifier(),\n",
        "    AdaBoostClassifier(base_estimator = DecisionTreeClassifier(random_state = 1), random_state = 1),\n",
        "    GaussianNB()]\n",
        "\n",
        "model_check(X=X_train_scaled, y= y_train, estimators= clf_list,cv=5)"
      ],
      "metadata": {
        "colab": {
          "base_uri": "https://localhost:8080/",
          "height": 897
        },
        "id": "mAx3fK7RmZeL",
        "outputId": "b848faab-9129-49b3-93b7-bae685bd9eac"
      },
      "execution_count": null,
      "outputs": [
        {
          "output_type": "display_data",
          "data": {
            "text/plain": [
              "<pandas.io.formats.style.Styler at 0x7f1bcc2da850>"
            ],
            "text/html": [
              "<style type=\"text/css\">\n",
              "#T_a4a5c_row0_col1, #T_a4a5c_row3_col2, #T_a4a5c_row5_col2, #T_a4a5c_row6_col2, #T_a4a5c_row6_col4, #T_a4a5c_row8_col3 {\n",
              "  background-color: #008066;\n",
              "  color: #f1f1f1;\n",
              "}\n",
              "#T_a4a5c_row0_col2, #T_a4a5c_row4_col2 {\n",
              "  background-color: #4ca666;\n",
              "  color: #f1f1f1;\n",
              "}\n",
              "#T_a4a5c_row0_col3, #T_a4a5c_row4_col4, #T_a4a5c_row5_col4, #T_a4a5c_row8_col1, #T_a4a5c_row8_col2, #T_a4a5c_row8_col4 {\n",
              "  background-color: #ffff66;\n",
              "  color: #000000;\n",
              "}\n",
              "#T_a4a5c_row0_col4 {\n",
              "  background-color: #cae466;\n",
              "  color: #000000;\n",
              "}\n",
              "#T_a4a5c_row1_col1 {\n",
              "  background-color: #038166;\n",
              "  color: #f1f1f1;\n",
              "}\n",
              "#T_a4a5c_row1_col2 {\n",
              "  background-color: #1d8e66;\n",
              "  color: #f1f1f1;\n",
              "}\n",
              "#T_a4a5c_row1_col3 {\n",
              "  background-color: #eaf466;\n",
              "  color: #000000;\n",
              "}\n",
              "#T_a4a5c_row1_col4 {\n",
              "  background-color: #d9ec66;\n",
              "  color: #000000;\n",
              "}\n",
              "#T_a4a5c_row2_col1 {\n",
              "  background-color: #168b66;\n",
              "  color: #f1f1f1;\n",
              "}\n",
              "#T_a4a5c_row2_col2 {\n",
              "  background-color: #6fb766;\n",
              "  color: #f1f1f1;\n",
              "}\n",
              "#T_a4a5c_row2_col3, #T_a4a5c_row6_col3 {\n",
              "  background-color: #b7db66;\n",
              "  color: #000000;\n",
              "}\n",
              "#T_a4a5c_row2_col4 {\n",
              "  background-color: #96cb66;\n",
              "  color: #000000;\n",
              "}\n",
              "#T_a4a5c_row3_col1, #T_a4a5c_row4_col1 {\n",
              "  background-color: #209066;\n",
              "  color: #f1f1f1;\n",
              "}\n",
              "#T_a4a5c_row3_col3 {\n",
              "  background-color: #b8dc66;\n",
              "  color: #000000;\n",
              "}\n",
              "#T_a4a5c_row3_col4 {\n",
              "  background-color: #2e9666;\n",
              "  color: #f1f1f1;\n",
              "}\n",
              "#T_a4a5c_row4_col3 {\n",
              "  background-color: #cfe766;\n",
              "  color: #000000;\n",
              "}\n",
              "#T_a4a5c_row5_col1 {\n",
              "  background-color: #249266;\n",
              "  color: #f1f1f1;\n",
              "}\n",
              "#T_a4a5c_row5_col3 {\n",
              "  background-color: #c7e366;\n",
              "  color: #000000;\n",
              "}\n",
              "#T_a4a5c_row6_col1 {\n",
              "  background-color: #3e9e66;\n",
              "  color: #f1f1f1;\n",
              "}\n",
              "#T_a4a5c_row7_col1 {\n",
              "  background-color: #54aa66;\n",
              "  color: #f1f1f1;\n",
              "}\n",
              "#T_a4a5c_row7_col2 {\n",
              "  background-color: #a1d066;\n",
              "  color: #000000;\n",
              "}\n",
              "#T_a4a5c_row7_col3 {\n",
              "  background-color: #f9fc66;\n",
              "  color: #000000;\n",
              "}\n",
              "#T_a4a5c_row7_col4 {\n",
              "  background-color: #fafc66;\n",
              "  color: #000000;\n",
              "}\n",
              "</style>\n",
              "<table id=\"T_a4a5c_\" class=\"dataframe\">\n",
              "  <thead>\n",
              "    <tr>\n",
              "      <th class=\"blank level0\" >&nbsp;</th>\n",
              "      <th class=\"col_heading level0 col0\" >Model Name</th>\n",
              "      <th class=\"col_heading level0 col1\" >Test Accuracy Mean</th>\n",
              "      <th class=\"col_heading level0 col2\" >Train Accuracy Mean</th>\n",
              "      <th class=\"col_heading level0 col3\" >Test Std</th>\n",
              "      <th class=\"col_heading level0 col4\" >Time</th>\n",
              "    </tr>\n",
              "  </thead>\n",
              "  <tbody>\n",
              "    <tr>\n",
              "      <th id=\"T_a4a5c_level0_row0\" class=\"row_heading level0 row0\" >5</th>\n",
              "      <td id=\"T_a4a5c_row0_col0\" class=\"data row0 col0\" >XGBClassifier</td>\n",
              "      <td id=\"T_a4a5c_row0_col1\" class=\"data row0 col1\" >0.859714</td>\n",
              "      <td id=\"T_a4a5c_row0_col2\" class=\"data row0 col2\" >0.879910</td>\n",
              "      <td id=\"T_a4a5c_row0_col3\" class=\"data row0 col3\" >0.009308</td>\n",
              "      <td id=\"T_a4a5c_row0_col4\" class=\"data row0 col4\" >0.066144</td>\n",
              "    </tr>\n",
              "    <tr>\n",
              "      <th id=\"T_a4a5c_level0_row1\" class=\"row_heading level0 row1\" >6</th>\n",
              "      <td id=\"T_a4a5c_row1_col0\" class=\"data row1 col0\" >LGBMClassifier</td>\n",
              "      <td id=\"T_a4a5c_row1_col1\" class=\"data row1 col1\" >0.858596</td>\n",
              "      <td id=\"T_a4a5c_row1_col2\" class=\"data row1 col2\" >0.901234</td>\n",
              "      <td id=\"T_a4a5c_row1_col3\" class=\"data row1 col3\" >0.012379</td>\n",
              "      <td id=\"T_a4a5c_row1_col4\" class=\"data row1 col4\" >0.048971</td>\n",
              "    </tr>\n",
              "    <tr>\n",
              "      <th id=\"T_a4a5c_level0_row2\" class=\"row_heading level0 row2\" >2</th>\n",
              "      <td id=\"T_a4a5c_row2_col0\" class=\"data row2 col0\" >SVC</td>\n",
              "      <td id=\"T_a4a5c_row2_col1\" class=\"data row2 col1\" >0.852947</td>\n",
              "      <td id=\"T_a4a5c_row2_col2\" class=\"data row2 col2\" >0.863637</td>\n",
              "      <td id=\"T_a4a5c_row2_col3\" class=\"data row2 col3\" >0.019758</td>\n",
              "      <td id=\"T_a4a5c_row2_col4\" class=\"data row2 col4\" >0.128820</td>\n",
              "    </tr>\n",
              "    <tr>\n",
              "      <th id=\"T_a4a5c_level0_row3\" class=\"row_heading level0 row3\" >4</th>\n",
              "      <td id=\"T_a4a5c_row3_col0\" class=\"data row3 col0\" >RandomForestClassifier</td>\n",
              "      <td id=\"T_a4a5c_row3_col1\" class=\"data row3 col1\" >0.849645</td>\n",
              "      <td id=\"T_a4a5c_row3_col2\" class=\"data row3 col2\" >0.914984</td>\n",
              "      <td id=\"T_a4a5c_row3_col3\" class=\"data row3 col3\" >0.019549</td>\n",
              "      <td id=\"T_a4a5c_row3_col4\" class=\"data row3 col4\" >0.253745</td>\n",
              "    </tr>\n",
              "    <tr>\n",
              "      <th id=\"T_a4a5c_level0_row4\" class=\"row_heading level0 row4\" >1</th>\n",
              "      <td id=\"T_a4a5c_row4_col0\" class=\"data row4 col0\" >KNeighborsClassifier</td>\n",
              "      <td id=\"T_a4a5c_row4_col1\" class=\"data row4 col1\" >0.849620</td>\n",
              "      <td id=\"T_a4a5c_row4_col2\" class=\"data row4 col2\" >0.879628</td>\n",
              "      <td id=\"T_a4a5c_row4_col3\" class=\"data row4 col3\" >0.016303</td>\n",
              "      <td id=\"T_a4a5c_row4_col4\" class=\"data row4 col4\" >0.002177</td>\n",
              "    </tr>\n",
              "    <tr>\n",
              "      <th id=\"T_a4a5c_level0_row5\" class=\"row_heading level0 row5\" >3</th>\n",
              "      <td id=\"T_a4a5c_row5_col0\" class=\"data row5 col0\" >DecisionTreeClassifier</td>\n",
              "      <td id=\"T_a4a5c_row5_col1\" class=\"data row5 col1\" >0.848522</td>\n",
              "      <td id=\"T_a4a5c_row5_col2\" class=\"data row5 col2\" >0.914984</td>\n",
              "      <td id=\"T_a4a5c_row5_col3\" class=\"data row5 col3\" >0.017373</td>\n",
              "      <td id=\"T_a4a5c_row5_col4\" class=\"data row5 col4\" >0.002932</td>\n",
              "    </tr>\n",
              "    <tr>\n",
              "      <th id=\"T_a4a5c_level0_row6\" class=\"row_heading level0 row6\" >7</th>\n",
              "      <td id=\"T_a4a5c_row6_col0\" class=\"data row6 col0\" >AdaBoostClassifier</td>\n",
              "      <td id=\"T_a4a5c_row6_col1\" class=\"data row6 col1\" >0.840657</td>\n",
              "      <td id=\"T_a4a5c_row6_col2\" class=\"data row6 col2\" >0.914984</td>\n",
              "      <td id=\"T_a4a5c_row6_col3\" class=\"data row6 col3\" >0.019708</td>\n",
              "      <td id=\"T_a4a5c_row6_col4\" class=\"data row6 col4\" >0.310034</td>\n",
              "    </tr>\n",
              "    <tr>\n",
              "      <th id=\"T_a4a5c_level0_row7\" class=\"row_heading level0 row7\" >0</th>\n",
              "      <td id=\"T_a4a5c_row7_col0\" class=\"data row7 col0\" >LogisticRegression</td>\n",
              "      <td id=\"T_a4a5c_row7_col1\" class=\"data row7 col1\" >0.833902</td>\n",
              "      <td id=\"T_a4a5c_row7_col2\" class=\"data row7 col2\" >0.840631</td>\n",
              "      <td id=\"T_a4a5c_row7_col3\" class=\"data row7 col3\" >0.010279</td>\n",
              "      <td id=\"T_a4a5c_row7_col4\" class=\"data row7 col4\" >0.008855</td>\n",
              "    </tr>\n",
              "    <tr>\n",
              "      <th id=\"T_a4a5c_level0_row8\" class=\"row_heading level0 row8\" >8</th>\n",
              "      <td id=\"T_a4a5c_row8_col0\" class=\"data row8 col0\" >GaussianNB</td>\n",
              "      <td id=\"T_a4a5c_row8_col1\" class=\"data row8 col1\" >0.781219</td>\n",
              "      <td id=\"T_a4a5c_row8_col2\" class=\"data row8 col2\" >0.797137</td>\n",
              "      <td id=\"T_a4a5c_row8_col3\" class=\"data row8 col3\" >0.046138</td>\n",
              "      <td id=\"T_a4a5c_row8_col4\" class=\"data row8 col4\" >0.002163</td>\n",
              "    </tr>\n",
              "  </tbody>\n",
              "</table>\n"
            ]
          },
          "metadata": {}
        },
        {
          "output_type": "stream",
          "name": "stderr",
          "text": [
            "/usr/local/lib/python3.7/dist-packages/seaborn/_decorators.py:43: FutureWarning: Pass the following variables as keyword args: x, y. From version 0.12, the only valid positional argument will be `data`, and passing other arguments without an explicit keyword will result in an error or misinterpretation.\n",
            "  FutureWarning\n"
          ]
        },
        {
          "output_type": "display_data",
          "data": {
            "text/plain": [
              "<Figure size 576x576 with 1 Axes>"
            ],
            "image/png": "[encoded data removed]"
          },
          "metadata": {}
        }
      ]
    },
    {
      "cell_type": "markdown",
      "source": [
        "According to Pawar, the XGB and LGBM classifiers have the highest accuracy scores. All models score relatively above 80% accuracy as well. "
      ],
      "metadata": {
        "id": "mBnhvqqVlqdt"
      }
    },
    {
      "cell_type": "markdown",
      "source": [
        "## Pawar's Voting Classifier ADS\n",
        "\n",
        "Pawar combines the predictions of all these base classifiers to see if he can get a better predictive performance compared to each constituent individual classifier. This is the main motivation behind Ensemble Learning."
      ],
      "metadata": {
        "id": "CxFE5Rrdmgcy"
      }
    },
    {
      "cell_type": "code",
      "source": [
        "base_estimators = [(est.__class__.__name__, est) for est in clf_list]\n",
        "\n",
        "for voting in ['soft', 'hard']:\n",
        "    \n",
        "    voting_classifier = VotingClassifier(\n",
        "        estimators = base_estimators ,\n",
        "        voting = voting)\n",
        "    \n",
        "    cv_results = cross_validate(\n",
        "        voting_classifier,\n",
        "        X_train_scaled,\n",
        "        y_train,\n",
        "        cv = 5,\n",
        "        scoring='accuracy',\n",
        "        return_train_score=True,\n",
        "        n_jobs=-1)\n",
        "    \n",
        "    print(f'\\n\\n\\n\\nResult for {voting} VotingClassifier_______\\n')\n",
        "    display(pd.DataFrame(cv_results).mean())"
      ],
      "metadata": {
        "colab": {
          "base_uri": "https://localhost:8080/",
          "height": 410
        },
        "id": "IMvK7E1ImtC3",
        "outputId": "858a0374-ba2f-4540-d8cf-47a2fe4f9960"
      },
      "execution_count": null,
      "outputs": [
        {
          "output_type": "stream",
          "name": "stdout",
          "text": [
            "\n",
            "\n",
            "\n",
            "\n",
            "Result for soft VotingClassifier_______\n",
            "\n"
          ]
        },
        {
          "output_type": "display_data",
          "data": {
            "text/plain": [
              "fit_time       0.807862\n",
              "score_time     0.050425\n",
              "test_score     0.854121\n",
              "train_score    0.906005\n",
              "dtype: float64"
            ]
          },
          "metadata": {}
        },
        {
          "output_type": "stream",
          "name": "stdout",
          "text": [
            "\n",
            "\n",
            "\n",
            "\n",
            "Result for hard VotingClassifier_______\n",
            "\n"
          ]
        },
        {
          "output_type": "display_data",
          "data": {
            "text/plain": [
              "fit_time       0.836291\n",
              "score_time     0.060667\n",
              "test_score     0.855232\n",
              "train_score    0.897307\n",
              "dtype: float64"
            ]
          },
          "metadata": {}
        }
      ]
    },
    {
      "cell_type": "markdown",
      "source": [
        "### Model Tuning\n",
        "\n",
        "Pawar adjusts each individual model for better accuracy and recreates his voting classifier ADS. "
      ],
      "metadata": {
        "id": "R0Hfa-Pom1UD"
      }
    },
    {
      "cell_type": "code",
      "source": [
        "model_param = [\n",
        "    (LogisticRegression(), {'max_iter' : [100],\n",
        "                            'penalty' : ['l1', 'l2'],\n",
        "                            'C' : np.logspace(-2, 2, 20),\n",
        "                            'solver' : ['lbfgs', 'liblinear']}),\n",
        "    (KNeighborsClassifier(), {'n_neighbors' : np.arange(3, 30, 1),\n",
        "                              'weights': ['uniform', 'distance'],\n",
        "                              'algorithm': ['auto'],\n",
        "                              'p': [1, 2]}),\n",
        "    (SVC(), [{'kernel': ['rbf'], \n",
        "              'gamma': [0.001, 0.01, 0.1, 0.5, 1, 2, 5],\n",
        "              'C': [0.1, 0.5,  1, 2, 5]},\n",
        "              {'kernel': ['linear'], \n",
        "              'C': [.1, 1, 2, 10]},\n",
        "              {'kernel': ['poly'], \n",
        "              'degree' : [2, 3, 4, 5], \n",
        "              'C': [.1, 1, 10]}]),\n",
        "    #(DecisionTreeClassifier(random_state = 1), {'max_depth': [3, 5, 10, 20, 50],\n",
        "    #                                            'criterion': ['entropy', 'gini'],\n",
        "    #                                            'min_samples_split': [5, 10, 15, 30],\n",
        "    #                                            'max_features': ['auto', 'sqrt', 'log2']}),\n",
        "    (RandomForestClassifier(random_state = 42),{'n_estimators': [50, 150, 300, 450],\n",
        "                                                'criterion': ['entropy'],\n",
        "                                                'bootstrap': [True],\n",
        "                                                'max_depth': [3, 5, 10],\n",
        "                                                'max_features': ['auto','sqrt'],\n",
        "                                                'min_samples_leaf': [2, 3],\n",
        "                                                'min_samples_split': [2, 3]}),\n",
        "    #(XGBClassifier(random_state = 1, use_label_encoder=False,tree_method='gpu_hist', gpu_id=0),{'n_estimators': [15, 25, 50, 100],\n",
        "    #                                                                                            'colsample_bytree': [0.65, 0.75, 0.80],\n",
        "    #                                                                                            #'max_depth': [None],\n",
        "    #                                                                                            'reg_alpha': [1],\n",
        "    #                                                                                            'reg_lambda': [1, 2, 5],\n",
        "    #                                                                                            'subsample': [0.50, 0.75, 1.00],\n",
        "    #                                                                                            'learning_rate': [0.01, 0.1, 0.5],\n",
        "    #                                                                                            'gamma': [0.5, 1, 2, 5],\n",
        "    #                                                                                            'min_child_weight': [0.01],\n",
        "    #                                                                                            'sampling_method': ['uniform']}),\n",
        "    (LGBMClassifier(random_state=42),{#'num_leaves': sp_randint(6, 50), \n",
        "                                      #'min_child_samples': sp_randint(100, 500), \n",
        "                                      'min_child_weight': [1e-5, 1e-1, 1, 1e1, 1e2, 1e4],\n",
        "                                      #'subsample': sp_uniform(loc=0.2, scale=0.8), \n",
        "                                      #'colsample_bytree': sp_uniform(loc=0.4, scale=0.6),\n",
        "                                      'reg_alpha': [0, 1e-1, 1, 2, 5, 7, 10, 50],\n",
        "                                      'reg_lambda': [0, 1e-1, 1, 5, 10, 20, 50, 10]}),\n",
        "    (AdaBoostClassifier(base_estimator = DecisionTreeClassifier(random_state = 1), random_state=1),{'algorithm': ['SAMME', 'SAMME.R'],\n",
        "                                                                                                    'base_estimator__criterion' : ['gini', 'entropy'],\n",
        "                                                                                                    'base_estimator__splitter' : ['best', 'random'],\n",
        "                                                                                                    'n_estimators': [2, 5, 10, 50],\n",
        "                                                                                                    'learning_rate': [0.01, 0.1, 0.2, 0.3, 1, 2]})]\n"
      ],
      "metadata": {
        "id": "B1_I8srdm3os"
      },
      "execution_count": null,
      "outputs": []
    },
    {
      "cell_type": "code",
      "source": [
        "def model_tuning_check(X, y, estimators, cv=None):\n",
        "    model_df = pd.DataFrame(columns = ['mean_test_score', 'mean_train_score', 'std_test_score', 'std_train_score','params','mean_fit_time'])\n",
        "    best_estimators =[]\n",
        "    \n",
        "    for est, param in estimators:\n",
        "\n",
        "        gscv = GridSearchCV(\n",
        "            est,\n",
        "            param_grid= param,\n",
        "            scoring='accuracy',\n",
        "            cv=cv,\n",
        "            #refit=False,\n",
        "            return_train_score=True,\n",
        "            n_jobs=-1).fit(X,y)\n",
        "\n",
        "        model_df.loc[est.__class__.__name__] = pd.DataFrame(\n",
        "            gscv.cv_results_).loc[\n",
        "            gscv.best_index_][['mean_test_score', 'mean_train_score', 'std_test_score', 'std_train_score','params','mean_fit_time']]\n",
        "        \n",
        "        #save estimator for later use \n",
        "        best_estimators.append(gscv.best_estimator_)\n",
        "        \n",
        "    model_df.sort_values(by=['mean_test_score'],\n",
        "                            ascending=False,\n",
        "                            inplace=True)\n",
        "    # Accuracy score DataFrame\n",
        "    display(model_df.style.background_gradient(cmap='summer_r'))\n",
        "    \n",
        "    # accuracy score graph\n",
        "    sns.barplot('mean_test_score',\n",
        "                model_df.index,\n",
        "                data=model_df,\n",
        "                orient='h',\n",
        "               **{'xerr': model_df['std_test_score']})\n",
        "    plt.title('GridSearchCV Scores')\n",
        "    plt.xlim([0.725, 0.88])\n",
        "    plt.show()\n",
        "\n",
        "    return best_estimators"
      ],
      "metadata": {
        "id": "z6MG0ufVoc_B"
      },
      "execution_count": null,
      "outputs": []
    },
    {
      "cell_type": "code",
      "source": [
        "# This cell may take a while to run, please be patient \n",
        "tuned_models= model_tuning_check(X_train_scaled, y_train, estimators= model_param)"
      ],
      "metadata": {
        "colab": {
          "base_uri": "https://localhost:8080/",
          "height": 1000
        },
        "id": "WhMLJ0kiogLc",
        "outputId": "537306f2-c664-4864-e6d4-ddff794d1fa8"
      },
      "execution_count": null,
      "outputs": [
        {
          "output_type": "stream",
          "name": "stderr",
          "text": [
            "/usr/local/lib/python3.7/dist-packages/sklearn/model_selection/_validation.py:372: FitFailedWarning: \n",
            "100 fits failed out of a total of 400.\n",
            "The score on these train-test partitions for these parameters will be set to nan.\n",
            "If these failures are not expected, you can try to debug them by setting error_score='raise'.\n",
            "\n",
            "Below are more details about the failures:\n",
            "--------------------------------------------------------------------------------\n",
            "100 fits failed with the following error:\n",
            "Traceback (most recent call last):\n",
            "  File \"/usr/local/lib/python3.7/dist-packages/sklearn/model_selection/_validation.py\", line 680, in _fit_and_score\n",
            "    estimator.fit(X_train, y_train, **fit_params)\n",
            "  File \"/usr/local/lib/python3.7/dist-packages/sklearn/linear_model/_logistic.py\", line 1461, in fit\n",
            "    solver = _check_solver(self.solver, self.penalty, self.dual)\n",
            "  File \"/usr/local/lib/python3.7/dist-packages/sklearn/linear_model/_logistic.py\", line 449, in _check_solver\n",
            "    % (solver, penalty)\n",
            "ValueError: Solver lbfgs supports only 'l2' or 'none' penalties, got l1 penalty.\n",
            "\n",
            "  warnings.warn(some_fits_failed_message, FitFailedWarning)\n",
            "/usr/local/lib/python3.7/dist-packages/sklearn/model_selection/_search.py:972: UserWarning: One or more of the test scores are non-finite: [       nan 0.78673655 0.8316992  0.84624317        nan 0.77666185\n",
            " 0.83392756 0.84175507        nan 0.80470153 0.84736049 0.84176135\n",
            "        nan 0.83277886 0.84287866 0.83952043        nan 0.83390245\n",
            " 0.83839056 0.83727324        nan 0.83950788 0.83502605 0.83614965\n",
            "        nan 0.83614337 0.83502605 0.83502605        nan 0.83390245\n",
            " 0.83390245 0.83390245        nan 0.83502605 0.83390245 0.83390245\n",
            "        nan 0.83502605 0.83390245 0.83390245        nan 0.83390245\n",
            " 0.83390245 0.83390245        nan 0.83390245 0.83390245 0.83390245\n",
            "        nan 0.83390245 0.83390245 0.83390245        nan 0.83390245\n",
            " 0.83390245 0.83390245        nan 0.83390245 0.83390245 0.83390245\n",
            "        nan 0.83390245 0.83390245 0.83390245        nan 0.83390245\n",
            " 0.83390245 0.83390245        nan 0.83390245 0.83390245 0.83390245\n",
            "        nan 0.83390245 0.83390245 0.83390245        nan 0.83390245\n",
            " 0.83390245 0.83390245]\n",
            "  category=UserWarning,\n",
            "/usr/local/lib/python3.7/dist-packages/sklearn/model_selection/_search.py:972: UserWarning: One or more of the train scores are non-finite: [       nan 0.7867552  0.83781931 0.84091077        nan 0.78591448\n",
            " 0.84623682 0.83894606        nan 0.80892888 0.84764289 0.84119049\n",
            "        nan 0.83473691 0.84708346 0.84147178        nan 0.8347377\n",
            " 0.84455891 0.84119089        nan 0.83698213 0.84203279 0.84091038\n",
            "        nan 0.84175268 0.84203279 0.83978757        nan 0.84062988\n",
            " 0.84063066 0.83950707        nan 0.83978757 0.84091117 0.84091117\n",
            "        nan 0.84063066 0.84063066 0.84091117        nan 0.84091117\n",
            " 0.84035016 0.84035016        nan 0.84091117 0.84035016 0.84006965\n",
            "        nan 0.84063066 0.84035016 0.84006965        nan 0.84035016\n",
            " 0.84006965 0.84006965        nan 0.83978915 0.84006965 0.84006965\n",
            "        nan 0.83978915 0.84006965 0.84006965        nan 0.84006965\n",
            " 0.84006965 0.84006965        nan 0.84006965 0.84006965 0.84063066\n",
            "        nan 0.84006965 0.84063066 0.84063066        nan 0.84063066\n",
            " 0.84063066 0.84063066]\n",
            "  category=UserWarning,\n"
          ]
        },
        {
          "output_type": "display_data",
          "data": {
            "text/plain": [
              "<pandas.io.formats.style.Styler at 0x7f1bca0c5d90>"
            ],
            "text/html": [
              "<style type=\"text/css\">\n",
              "#T_073f5_row0_col0, #T_073f5_row0_col3, #T_073f5_row4_col1, #T_073f5_row4_col2, #T_073f5_row4_col5 {\n",
              "  background-color: #008066;\n",
              "  color: #f1f1f1;\n",
              "}\n",
              "#T_073f5_row0_col1 {\n",
              "  background-color: #94ca66;\n",
              "  color: #000000;\n",
              "}\n",
              "#T_073f5_row0_col2 {\n",
              "  background-color: #96cb66;\n",
              "  color: #000000;\n",
              "}\n",
              "#T_073f5_row0_col5 {\n",
              "  background-color: #d2e866;\n",
              "  color: #000000;\n",
              "}\n",
              "#T_073f5_row1_col0 {\n",
              "  background-color: #0e8666;\n",
              "  color: #f1f1f1;\n",
              "}\n",
              "#T_073f5_row1_col1 {\n",
              "  background-color: #add666;\n",
              "  color: #000000;\n",
              "}\n",
              "#T_073f5_row1_col2 {\n",
              "  background-color: #b2d866;\n",
              "  color: #000000;\n",
              "}\n",
              "#T_073f5_row1_col3 {\n",
              "  background-color: #81c066;\n",
              "  color: #000000;\n",
              "}\n",
              "#T_073f5_row1_col5, #T_073f5_row2_col2, #T_073f5_row4_col3, #T_073f5_row5_col0, #T_073f5_row5_col1, #T_073f5_row5_col2 {\n",
              "  background-color: #ffff66;\n",
              "  color: #000000;\n",
              "}\n",
              "#T_073f5_row2_col0 {\n",
              "  background-color: #2a9466;\n",
              "  color: #f1f1f1;\n",
              "}\n",
              "#T_073f5_row2_col1 {\n",
              "  background-color: #6db666;\n",
              "  color: #f1f1f1;\n",
              "}\n",
              "#T_073f5_row2_col3 {\n",
              "  background-color: #399c66;\n",
              "  color: #f1f1f1;\n",
              "}\n",
              "#T_073f5_row2_col5 {\n",
              "  background-color: #c6e266;\n",
              "  color: #000000;\n",
              "}\n",
              "#T_073f5_row3_col0 {\n",
              "  background-color: #47a366;\n",
              "  color: #f1f1f1;\n",
              "}\n",
              "#T_073f5_row3_col1 {\n",
              "  background-color: #78bc66;\n",
              "  color: #f1f1f1;\n",
              "}\n",
              "#T_073f5_row3_col2 {\n",
              "  background-color: #71b866;\n",
              "  color: #f1f1f1;\n",
              "}\n",
              "#T_073f5_row3_col3 {\n",
              "  background-color: #4da666;\n",
              "  color: #f1f1f1;\n",
              "}\n",
              "#T_073f5_row3_col5 {\n",
              "  background-color: #44a266;\n",
              "  color: #f1f1f1;\n",
              "}\n",
              "#T_073f5_row4_col0 {\n",
              "  background-color: #8dc666;\n",
              "  color: #000000;\n",
              "}\n",
              "#T_073f5_row5_col3 {\n",
              "  background-color: #edf666;\n",
              "  color: #000000;\n",
              "}\n",
              "#T_073f5_row5_col5 {\n",
              "  background-color: #f2f866;\n",
              "  color: #000000;\n",
              "}\n",
              "</style>\n",
              "<table id=\"T_073f5_\" class=\"dataframe\">\n",
              "  <thead>\n",
              "    <tr>\n",
              "      <th class=\"blank level0\" >&nbsp;</th>\n",
              "      <th class=\"col_heading level0 col0\" >mean_test_score</th>\n",
              "      <th class=\"col_heading level0 col1\" >mean_train_score</th>\n",
              "      <th class=\"col_heading level0 col2\" >std_test_score</th>\n",
              "      <th class=\"col_heading level0 col3\" >std_train_score</th>\n",
              "      <th class=\"col_heading level0 col4\" >params</th>\n",
              "      <th class=\"col_heading level0 col5\" >mean_fit_time</th>\n",
              "    </tr>\n",
              "  </thead>\n",
              "  <tbody>\n",
              "    <tr>\n",
              "      <th id=\"T_073f5_level0_row0\" class=\"row_heading level0 row0\" >LGBMClassifier</th>\n",
              "      <td id=\"T_073f5_row0_col0\" class=\"data row0 col0\" >0.867573</td>\n",
              "      <td id=\"T_073f5_row0_col1\" class=\"data row0 col1\" >0.875982</td>\n",
              "      <td id=\"T_073f5_row0_col2\" class=\"data row0 col2\" >0.011465</td>\n",
              "      <td id=\"T_073f5_row0_col3\" class=\"data row0 col3\" >0.002899</td>\n",
              "      <td id=\"T_073f5_row0_col4\" class=\"data row0 col4\" >{'min_child_weight': 1e-05, 'reg_alpha': 1, 'reg_lambda': 5}</td>\n",
              "      <td id=\"T_073f5_row0_col5\" class=\"data row0 col5\" >0.035879</td>\n",
              "    </tr>\n",
              "    <tr>\n",
              "      <th id=\"T_073f5_level0_row1\" class=\"row_heading level0 row1\" >KNeighborsClassifier</th>\n",
              "      <td id=\"T_073f5_row1_col0\" class=\"data row1 col0\" >0.866449</td>\n",
              "      <td id=\"T_073f5_row1_col1\" class=\"data row1 col1\" >0.869248</td>\n",
              "      <td id=\"T_073f5_row1_col2\" class=\"data row1 col2\" >0.009561</td>\n",
              "      <td id=\"T_073f5_row1_col3\" class=\"data row1 col3\" >0.002568</td>\n",
              "      <td id=\"T_073f5_row1_col4\" class=\"data row1 col4\" >{'algorithm': 'auto', 'n_neighbors': 16, 'p': 2, 'weights': 'uniform'}</td>\n",
              "      <td id=\"T_073f5_row1_col5\" class=\"data row1 col5\" >0.001998</td>\n",
              "    </tr>\n",
              "    <tr>\n",
              "      <th id=\"T_073f5_level0_row2\" class=\"row_heading level0 row2\" >SVC</th>\n",
              "      <td id=\"T_073f5_row2_col0\" class=\"data row2 col0\" >0.864196</td>\n",
              "      <td id=\"T_073f5_row2_col1\" class=\"data row2 col1\" >0.886082</td>\n",
              "      <td id=\"T_073f5_row2_col2\" class=\"data row2 col2\" >0.004255</td>\n",
              "      <td id=\"T_073f5_row2_col3\" class=\"data row2 col3\" >0.002751</td>\n",
              "      <td id=\"T_073f5_row2_col4\" class=\"data row2 col4\" >{'C': 10, 'degree': 4, 'kernel': 'poly'}</td>\n",
              "      <td id=\"T_073f5_row2_col5\" class=\"data row2 col5\" >0.044852</td>\n",
              "    </tr>\n",
              "    <tr>\n",
              "      <th id=\"T_073f5_level0_row3\" class=\"row_heading level0 row3\" >RandomForestClassifier</th>\n",
              "      <td id=\"T_073f5_row3_col0\" class=\"data row3 col0\" >0.861961</td>\n",
              "      <td id=\"T_073f5_row3_col1\" class=\"data row3 col1\" >0.883278</td>\n",
              "      <td id=\"T_073f5_row3_col2\" class=\"data row3 col2\" >0.013946</td>\n",
              "      <td id=\"T_073f5_row3_col3\" class=\"data row3 col3\" >0.002700</td>\n",
              "      <td id=\"T_073f5_row3_col4\" class=\"data row3 col4\" >{'bootstrap': True, 'criterion': 'entropy', 'max_depth': 10, 'max_features': 'auto', 'min_samples_leaf': 3, 'min_samples_split': 2, 'n_estimators': 50}</td>\n",
              "      <td id=\"T_073f5_row3_col5\" class=\"data row3 col5\" >0.141354</td>\n",
              "    </tr>\n",
              "    <tr>\n",
              "      <th id=\"T_073f5_level0_row4\" class=\"row_heading level0 row4\" >AdaBoostClassifier</th>\n",
              "      <td id=\"T_073f5_row4_col0\" class=\"data row4 col0\" >0.856387</td>\n",
              "      <td id=\"T_073f5_row4_col1\" class=\"data row4 col1\" >0.914984</td>\n",
              "      <td id=\"T_073f5_row4_col2\" class=\"data row4 col2\" >0.021685</td>\n",
              "      <td id=\"T_073f5_row4_col3\" class=\"data row4 col3\" >0.002242</td>\n",
              "      <td id=\"T_073f5_row4_col4\" class=\"data row4 col4\" >{'algorithm': 'SAMME.R', 'base_estimator__criterion': 'gini', 'base_estimator__splitter': 'best', 'learning_rate': 0.2, 'n_estimators': 50}</td>\n",
              "      <td id=\"T_073f5_row4_col5\" class=\"data row4 col5\" >0.191897</td>\n",
              "    </tr>\n",
              "    <tr>\n",
              "      <th id=\"T_073f5_level0_row5\" class=\"row_heading level0 row5\" >LogisticRegression</th>\n",
              "      <td id=\"T_073f5_row5_col0\" class=\"data row5 col0\" >0.847360</td>\n",
              "      <td id=\"T_073f5_row5_col1\" class=\"data row5 col1\" >0.847643</td>\n",
              "      <td id=\"T_073f5_row5_col2\" class=\"data row5 col2\" >0.004263</td>\n",
              "      <td id=\"T_073f5_row5_col3\" class=\"data row5 col3\" >0.002291</td>\n",
              "      <td id=\"T_073f5_row5_col4\" class=\"data row5 col4\" >{'C': 0.026366508987303583, 'max_iter': 100, 'penalty': 'l2', 'solver': 'lbfgs'}</td>\n",
              "      <td id=\"T_073f5_row5_col5\" class=\"data row5 col5\" >0.012063</td>\n",
              "    </tr>\n",
              "  </tbody>\n",
              "</table>\n"
            ]
          },
          "metadata": {}
        },
        {
          "output_type": "stream",
          "name": "stderr",
          "text": [
            "/usr/local/lib/python3.7/dist-packages/seaborn/_decorators.py:43: FutureWarning: Pass the following variables as keyword args: x, y. From version 0.12, the only valid positional argument will be `data`, and passing other arguments without an explicit keyword will result in an error or misinterpretation.\n",
            "  FutureWarning\n"
          ]
        },
        {
          "output_type": "display_data",
          "data": {
            "text/plain": [
              "<Figure size 576x576 with 1 Axes>"
            ],
            "image/png": "[encoded data removed]"
          },
          "metadata": {}
        }
      ]
    },
    {
      "cell_type": "code",
      "source": [
        "# Pawar's final ADS is a Voting Classifier ensemble designated as \"model\", we will be using this same model for our analysis\n",
        "model = VotingClassifier(\n",
        "    estimators= [(clf.__class__.__name__, clf)  for clf in tuned_models],# if clf.__class__.__name__ not in ['AdaBoostClassifier', 'LogisticRegression']],\n",
        "    voting='hard')\n",
        "\n",
        "model.fit(X_train_scaled, y_train)\n",
        "\n",
        "result = cross_validate(model, \n",
        "               X_train_scaled,\n",
        "               y_train,\n",
        "               cv = 5,\n",
        "               scoring='accuracy',\n",
        "               return_train_score=True,\n",
        "              n_jobs=-1)\n",
        "print ('Tuned Voting classifier Models - \\n-----------------------')\n",
        "print (f'Accuracy => {np.round(result[\"test_score\"].mean()*100, 2)} %')"
      ],
      "metadata": {
        "colab": {
          "base_uri": "https://localhost:8080/"
        },
        "id": "K5XwZvVqoUtF",
        "outputId": "bc133554-664a-456c-b904-63c675d04568"
      },
      "execution_count": null,
      "outputs": [
        {
          "output_type": "stream",
          "name": "stdout",
          "text": [
            "Tuned Voting classifier Models - \n",
            "-----------------------\n",
            "Accuracy => 86.87 %\n"
          ]
        }
      ]
    },
    {
      "cell_type": "markdown",
      "source": [
        "# Our Analysis on Pawar's ADS"
      ],
      "metadata": {
        "id": "R76uyUDXr-y1"
      }
    },
    {
      "cell_type": "markdown",
      "source": [
        "## Re-fitting Pawar's ADS to consider accuracy and disparate impact across groups\n",
        "\n",
        "In order to analyze the effectiveness (accuracy) of our chosen ADS, we used aif360 to compare performance across different subpopulations: \n",
        "* [Female, Male]\n",
        "* [40 years old or below, Above 40 years old]\n",
        "* [High/very high fare, lower fares]\n",
        "* [First and second class, lower classes]. \n",
        "\n",
        "For data preparation, we converted all data types to be compatible with aif360, and we converted the variables ‘Age’, ‘Fare_Bin’, and ‘Pclass’ to be binary based on thresholds we set. "
      ],
      "metadata": {
        "id": "LwU4m0mvMs3k"
      }
    },
    {
      "cell_type": "markdown",
      "source": [
        "### Re-train Pawar's ADS\n",
        "\n",
        "As stated before, we decided not to use the imputed \"Survival\" values in the test.csv like Pawar, so we will split the Age imputed train.csv into train and test dataframes first for our fairness analysis"
      ],
      "metadata": {
        "id": "-rRfq7hnM0tp"
      }
    },
    {
      "cell_type": "code",
      "source": [
        "# split train test data using the imputed \"train.csv\" data \n",
        "\n",
        "# Fix datatypes in the dataframe:\n",
        "analysis_data = analysis_data.astype({col: 'int64' for col in analysis_data.select_dtypes('Int64').columns})\n",
        "analysis_data = analysis_data.astype({col: 'float64' for col in analysis_data.select_dtypes('Float64').columns})\n",
        "\n",
        "# Recode priviliged groups and unprivileged groups: \n",
        "analysis_data['Age'] = np.where((analysis_data['Age']>40), 0, 1) # Those above 40 are underprivileged while those younger are privileged\n",
        "analysis_data['Fare_Bin'] = np.where(analysis_data['Fare_Bin'] >= 2, 1, 0) # Those with higher fares are privilged\n",
        "analysis_data['Pclass'] = np.where(analysis_data['Pclass'] > 2, 0, 1) # 1st and 2nd class are privilged \n",
        "\n",
        "################################################################################\n",
        "\n",
        "# Instantiate train dataframes with varying groups of interest to analyze fairness\n",
        "train = analysis_data[:445]\n",
        "\n",
        "X_train = train.drop('Survived', 1)\n",
        "X_train_sex = train.drop(['Survived', \"Sex\"], 1)\n",
        "X_train_age = train.drop(['Survived', \"Age\"], 1)\n",
        "X_train_fare = train.drop(['Survived', \"Fare_Bin\"], 1)\n",
        "X_train_class = train.drop(['Survived', \"Pclass\"], 1)\n",
        "\n",
        "y_train = train['Survived'].astype('int')\n",
        "\n",
        "#######################################################\n",
        "\n",
        "# Instantiate test dataframes with varying groups of interest to analyze fairness\n",
        "\n",
        "X_test = analysis_data[445:891]\n",
        "\n",
        "X_test_sex = X_test.drop(['Survived', \"Sex\"], axis = 1)\n",
        "X_test_age = X_test.drop(['Survived', \"Age\"], axis = 1)\n",
        "X_test_fare = X_test.drop(['Survived', \"Fare_Bin\"], axis = 1)\n",
        "X_test_class = X_test.drop(['Survived', \"Pclass\"], axis = 1)\n",
        "\n",
        "Y_test = X_test[\"Survived\"]\n",
        "\n",
        "X_test_jitter = X_test.drop('Survived', axis = 1)\n",
        "\n",
        "# Standardize data using StandardScalar \n",
        "std_scaler = StandardScaler()\n",
        "\n",
        "X_train_scaled = std_scaler.fit_transform(X_train) # fit_transform the X_train\n",
        "X_test_scaled = std_scaler.fit_transform(X_test_jitter) # only transform the X_test\n",
        "\n",
        "\n",
        "X_train_scaled_sex = std_scaler.fit_transform(X_train_sex)  \n",
        "X_test_scaled_sex = std_scaler.transform(X_test_sex)        \n",
        "\n",
        "X_train_scaled_age = std_scaler.fit_transform(X_train_age)  \n",
        "X_test_scaled_age = std_scaler.transform(X_test_age)        \n",
        "\n",
        "X_train_scaled_fare = std_scaler.fit_transform(X_train_fare)  \n",
        "X_test_scaled_fare = std_scaler.transform(X_test_fare)        \n",
        "\n",
        "X_train_scaled_class = std_scaler.fit_transform(X_train_class)  \n",
        "X_test_scaled_class = std_scaler.transform(X_test_class)        "
      ],
      "metadata": {
        "id": "qwyeJfX1M6Ne",
        "colab": {
          "base_uri": "https://localhost:8080/"
        },
        "outputId": "1a935fa4-5cd2-4d79-b99b-88d1e98089b6"
      },
      "execution_count": null,
      "outputs": [
        {
          "output_type": "stream",
          "name": "stderr",
          "text": [
            "/usr/local/lib/python3.7/dist-packages/ipykernel_launcher.py:17: FutureWarning: In a future version of pandas all arguments of DataFrame.drop except for the argument 'labels' will be keyword-only\n",
            "/usr/local/lib/python3.7/dist-packages/ipykernel_launcher.py:18: FutureWarning: In a future version of pandas all arguments of DataFrame.drop except for the argument 'labels' will be keyword-only\n",
            "/usr/local/lib/python3.7/dist-packages/ipykernel_launcher.py:19: FutureWarning: In a future version of pandas all arguments of DataFrame.drop except for the argument 'labels' will be keyword-only\n",
            "/usr/local/lib/python3.7/dist-packages/ipykernel_launcher.py:20: FutureWarning: In a future version of pandas all arguments of DataFrame.drop except for the argument 'labels' will be keyword-only\n",
            "/usr/local/lib/python3.7/dist-packages/ipykernel_launcher.py:21: FutureWarning: In a future version of pandas all arguments of DataFrame.drop except for the argument 'labels' will be keyword-only\n"
          ]
        }
      ]
    },
    {
      "cell_type": "code",
      "source": [
        "X_test.sample(15)"
      ],
      "metadata": {
        "colab": {
          "base_uri": "https://localhost:8080/",
          "height": 520
        },
        "id": "4YiL0rIXs9OH",
        "outputId": "dc50d235-1574-4833-86b4-fd45e88647ad"
      },
      "execution_count": null,
      "outputs": [
        {
          "output_type": "execute_result",
          "data": {
            "text/plain": [
              "     Survived  Pclass  Sex  Age  Family_Survival  Fare_Bin  Relatives\n",
              "741         0       1    1    1              1.0         1          1\n",
              "620         0       0    1    1              1.0         1          1\n",
              "780         1       0    0    1              0.5         0          0\n",
              "829         1       1    0    0              1.0         1          0\n",
              "605         0       0    1    1              0.5         1          1\n",
              "847         0       0    1    1              0.5         0          0\n",
              "508         0       0    1    1              0.5         1          0\n",
              "812         0       1    1    1              0.5         0          0\n",
              "845         0       0    1    0              0.5         0          0\n",
              "882         0       0    0    1              0.5         1          0\n",
              "776         0       0    1    1              0.5         0          0\n",
              "721         0       0    1    1              0.5         0          1\n",
              "750         1       1    0    1              0.5         1          2\n",
              "680         0       0    0    1              0.5         0          0\n",
              "471         0       0    1    1              0.0         0          0"
            ],
            "text/html": [
              "\n",
              "  <div id=\"df-68b64895-4536-4e75-ac83-1a5c59ea6279\">\n",
              "    <div class=\"colab-df-container\">\n",
              "      <div>\n",
              "<style scoped>\n",
              "    .dataframe tbody tr th:only-of-type {\n",
              "        vertical-align: middle;\n",
              "    }\n",
              "\n",
              "    .dataframe tbody tr th {\n",
              "        vertical-align: top;\n",
              "    }\n",
              "\n",
              "    .dataframe thead th {\n",
              "        text-align: right;\n",
              "    }\n",
              "</style>\n",
              "<table border=\"1\" class=\"dataframe\">\n",
              "  <thead>\n",
              "    <tr style=\"text-align: right;\">\n",
              "      <th></th>\n",
              "      <th>Survived</th>\n",
              "      <th>Pclass</th>\n",
              "      <th>Sex</th>\n",
              "      <th>Age</th>\n",
              "      <th>Family_Survival</th>\n",
              "      <th>Fare_Bin</th>\n",
              "      <th>Relatives</th>\n",
              "    </tr>\n",
              "  </thead>\n",
              "  <tbody>\n",
              "    <tr>\n",
              "      <th>741</th>\n",
              "      <td>0</td>\n",
              "      <td>1</td>\n",
              "      <td>1</td>\n",
              "      <td>1</td>\n",
              "      <td>1.0</td>\n",
              "      <td>1</td>\n",
              "      <td>1</td>\n",
              "    </tr>\n",
              "    <tr>\n",
              "      <th>620</th>\n",
              "      <td>0</td>\n",
              "      <td>0</td>\n",
              "      <td>1</td>\n",
              "      <td>1</td>\n",
              "      <td>1.0</td>\n",
              "      <td>1</td>\n",
              "      <td>1</td>\n",
              "    </tr>\n",
              "    <tr>\n",
              "      <th>780</th>\n",
              "      <td>1</td>\n",
              "      <td>0</td>\n",
              "      <td>0</td>\n",
              "      <td>1</td>\n",
              "      <td>0.5</td>\n",
              "      <td>0</td>\n",
              "      <td>0</td>\n",
              "    </tr>\n",
              "    <tr>\n",
              "      <th>829</th>\n",
              "      <td>1</td>\n",
              "      <td>1</td>\n",
              "      <td>0</td>\n",
              "      <td>0</td>\n",
              "      <td>1.0</td>\n",
              "      <td>1</td>\n",
              "      <td>0</td>\n",
              "    </tr>\n",
              "    <tr>\n",
              "      <th>605</th>\n",
              "      <td>0</td>\n",
              "      <td>0</td>\n",
              "      <td>1</td>\n",
              "      <td>1</td>\n",
              "      <td>0.5</td>\n",
              "      <td>1</td>\n",
              "      <td>1</td>\n",
              "    </tr>\n",
              "    <tr>\n",
              "      <th>847</th>\n",
              "      <td>0</td>\n",
              "      <td>0</td>\n",
              "      <td>1</td>\n",
              "      <td>1</td>\n",
              "      <td>0.5</td>\n",
              "      <td>0</td>\n",
              "      <td>0</td>\n",
              "    </tr>\n",
              "    <tr>\n",
              "      <th>508</th>\n",
              "      <td>0</td>\n",
              "      <td>0</td>\n",
              "      <td>1</td>\n",
              "      <td>1</td>\n",
              "      <td>0.5</td>\n",
              "      <td>1</td>\n",
              "      <td>0</td>\n",
              "    </tr>\n",
              "    <tr>\n",
              "      <th>812</th>\n",
              "      <td>0</td>\n",
              "      <td>1</td>\n",
              "      <td>1</td>\n",
              "      <td>1</td>\n",
              "      <td>0.5</td>\n",
              "      <td>0</td>\n",
              "      <td>0</td>\n",
              "    </tr>\n",
              "    <tr>\n",
              "      <th>845</th>\n",
              "      <td>0</td>\n",
              "      <td>0</td>\n",
              "      <td>1</td>\n",
              "      <td>0</td>\n",
              "      <td>0.5</td>\n",
              "      <td>0</td>\n",
              "      <td>0</td>\n",
              "    </tr>\n",
              "    <tr>\n",
              "      <th>882</th>\n",
              "      <td>0</td>\n",
              "      <td>0</td>\n",
              "      <td>0</td>\n",
              "      <td>1</td>\n",
              "      <td>0.5</td>\n",
              "      <td>1</td>\n",
              "      <td>0</td>\n",
              "    </tr>\n",
              "    <tr>\n",
              "      <th>776</th>\n",
              "      <td>0</td>\n",
              "      <td>0</td>\n",
              "      <td>1</td>\n",
              "      <td>1</td>\n",
              "      <td>0.5</td>\n",
              "      <td>0</td>\n",
              "      <td>0</td>\n",
              "    </tr>\n",
              "    <tr>\n",
              "      <th>721</th>\n",
              "      <td>0</td>\n",
              "      <td>0</td>\n",
              "      <td>1</td>\n",
              "      <td>1</td>\n",
              "      <td>0.5</td>\n",
              "      <td>0</td>\n",
              "      <td>1</td>\n",
              "    </tr>\n",
              "    <tr>\n",
              "      <th>750</th>\n",
              "      <td>1</td>\n",
              "      <td>1</td>\n",
              "      <td>0</td>\n",
              "      <td>1</td>\n",
              "      <td>0.5</td>\n",
              "      <td>1</td>\n",
              "      <td>2</td>\n",
              "    </tr>\n",
              "    <tr>\n",
              "      <th>680</th>\n",
              "      <td>0</td>\n",
              "      <td>0</td>\n",
              "      <td>0</td>\n",
              "      <td>1</td>\n",
              "      <td>0.5</td>\n",
              "      <td>0</td>\n",
              "      <td>0</td>\n",
              "    </tr>\n",
              "    <tr>\n",
              "      <th>471</th>\n",
              "      <td>0</td>\n",
              "      <td>0</td>\n",
              "      <td>1</td>\n",
              "      <td>1</td>\n",
              "      <td>0.0</td>\n",
              "      <td>0</td>\n",
              "      <td>0</td>\n",
              "    </tr>\n",
              "  </tbody>\n",
              "</table>\n",
              "</div>\n",
              "      <button class=\"colab-df-convert\" onclick=\"convertToInteractive('df-68b64895-4536-4e75-ac83-1a5c59ea6279')\"\n",
              "              title=\"Convert this dataframe to an interactive table.\"\n",
              "              style=\"display:none;\">\n",
              "        \n",
              "  <svg xmlns=\"http://www.w3.org/2000/svg\" height=\"24px\"viewBox=\"0 0 24 24\"\n",
              "       width=\"24px\">\n",
              "    <path d=\"M0 0h24v24H0V0z\" fill=\"none\"/>\n",
              "    <path d=\"M18.56 5.44l.94 2.06.94-2.06 2.06-.94-2.06-.94-.94-2.06-.94 2.06-2.06.94zm-11 1L8.5 8.5l.94-2.06 2.06-.94-2.06-.94L8.5 2.5l-.94 2.06-2.06.94zm10 10l.94 2.06.94-2.06 2.06-.94-2.06-.94-.94-2.06-.94 2.06-2.06.94z\"/><path d=\"M17.41 7.96l-1.37-1.37c-.4-.4-.92-.59-1.43-.59-.52 0-1.04.2-1.43.59L10.3 9.45l-7.72 7.72c-.78.78-.78 2.05 0 2.83L4 21.41c.39.39.9.59 1.41.59.51 0 1.02-.2 1.41-.59l7.78-7.78 2.81-2.81c.8-.78.8-2.07 0-2.86zM5.41 20L4 18.59l7.72-7.72 1.47 1.35L5.41 20z\"/>\n",
              "  </svg>\n",
              "      </button>\n",
              "      \n",
              "  <style>\n",
              "    .colab-df-container {\n",
              "      display:flex;\n",
              "      flex-wrap:wrap;\n",
              "      gap: 12px;\n",
              "    }\n",
              "\n",
              "    .colab-df-convert {\n",
              "      background-color: #E8F0FE;\n",
              "      border: none;\n",
              "      border-radius: 50%;\n",
              "      cursor: pointer;\n",
              "      display: none;\n",
              "      fill: #1967D2;\n",
              "      height: 32px;\n",
              "      padding: 0 0 0 0;\n",
              "      width: 32px;\n",
              "    }\n",
              "\n",
              "    .colab-df-convert:hover {\n",
              "      background-color: #E2EBFA;\n",
              "      box-shadow: 0px 1px 2px rgba(60, 64, 67, 0.3), 0px 1px 3px 1px rgba(60, 64, 67, 0.15);\n",
              "      fill: #174EA6;\n",
              "    }\n",
              "\n",
              "    [theme=dark] .colab-df-convert {\n",
              "      background-color: #3B4455;\n",
              "      fill: #D2E3FC;\n",
              "    }\n",
              "\n",
              "    [theme=dark] .colab-df-convert:hover {\n",
              "      background-color: #434B5C;\n",
              "      box-shadow: 0px 1px 3px 1px rgba(0, 0, 0, 0.15);\n",
              "      filter: drop-shadow(0px 1px 2px rgba(0, 0, 0, 0.3));\n",
              "      fill: #FFFFFF;\n",
              "    }\n",
              "  </style>\n",
              "\n",
              "      <script>\n",
              "        const buttonEl =\n",
              "          document.querySelector('#df-68b64895-4536-4e75-ac83-1a5c59ea6279 button.colab-df-convert');\n",
              "        buttonEl.style.display =\n",
              "          google.colab.kernel.accessAllowed ? 'block' : 'none';\n",
              "\n",
              "        async function convertToInteractive(key) {\n",
              "          const element = document.querySelector('#df-68b64895-4536-4e75-ac83-1a5c59ea6279');\n",
              "          const dataTable =\n",
              "            await google.colab.kernel.invokeFunction('convertToInteractive',\n",
              "                                                     [key], {});\n",
              "          if (!dataTable) return;\n",
              "\n",
              "          const docLinkHtml = 'Like what you see? Visit the ' +\n",
              "            '<a target=\"_blank\" href=https://colab.research.google.com/notebooks/data_table.ipynb>data table notebook</a>'\n",
              "            + ' to learn more about interactive tables.';\n",
              "          element.innerHTML = '';\n",
              "          dataTable['output_type'] = 'display_data';\n",
              "          await google.colab.output.renderOutput(dataTable, element);\n",
              "          const docLink = document.createElement('div');\n",
              "          docLink.innerHTML = docLinkHtml;\n",
              "          element.appendChild(docLink);\n",
              "        }\n",
              "      </script>\n",
              "    </div>\n",
              "  </div>\n",
              "  "
            ]
          },
          "metadata": {},
          "execution_count": 36
        }
      ]
    },
    {
      "cell_type": "markdown",
      "source": [
        "## Fairness Analysis on *Sex* Group: Male (Unprivilged) vs. Female (Privileged) "
      ],
      "metadata": {
        "id": "CYWoZeMDp7QD"
      }
    },
    {
      "cell_type": "code",
      "source": [
        "# Method used to tranform dataframe to aif dataset for fairness analysis\n",
        "def transform_to_aif(df, target, protected_attr):\n",
        "  '''convert a pandas.DataFrame to a StandardDataset used in AIF360'''\n",
        "\n",
        "  sd = StandardDataset(\n",
        "      df,\n",
        "      label_name = target,\n",
        "      favorable_classes = [1],\n",
        "      protected_attribute_names = [protected_attr],\n",
        "      privileged_classes = [[1]],\n",
        "      features_to_keep = [target, protected_attr]\n",
        "  )\n",
        "\n",
        "  return sd"
      ],
      "metadata": {
        "id": "HUuz5I8bsM9E"
      },
      "execution_count": null,
      "outputs": []
    },
    {
      "cell_type": "code",
      "source": [
        "# Re_train model for protected value \"Sex\"\n",
        "\n",
        "model.fit(X_train_scaled_sex, y_train)\n",
        "\n",
        "# Make predictions\n",
        "pred_y = model.predict(X_test_scaled_sex)\n"
      ],
      "metadata": {
        "id": "XRZ1fXkPQfV1"
      },
      "execution_count": null,
      "outputs": []
    },
    {
      "cell_type": "code",
      "source": [
        "# convert predictions data to AIF StandardDataset\n",
        "\n",
        "preds_df = X_test.copy()\n",
        "preds_df['Survived'] = pred_y\n",
        "\n",
        "sex_preds_aif360 = transform_to_aif(preds_df, 'Survived', 'Sex')\n",
        "\n",
        "\n",
        "# also create AIF StandardDataset versions of test data\n",
        "\n",
        "orig_sex_test_aif360 = transform_to_aif(X_test, 'Survived', 'Sex')"
      ],
      "metadata": {
        "id": "kyUEpsf9RcwC"
      },
      "execution_count": null,
      "outputs": []
    },
    {
      "cell_type": "code",
      "source": [
        "# calculate metrics\n",
        "\n",
        "privileged_groups = [{'Sex': 0}] \n",
        "unprivileged_groups = [{'Sex': 1}]\n",
        "\n",
        "comparison_metrics = ClassificationMetric(orig_sex_test_aif360, sex_preds_aif360, unprivileged_groups=unprivileged_groups, privileged_groups=privileged_groups)\n",
        "\n",
        "#Accuracy & AUC\n",
        "accuracy = accuracy_score(Y_test, [pred_prob >= 0.5 for pred_prob in pred_y])\n",
        "auc = roc_auc_score(Y_test, pred_y)\n",
        "\n",
        "print(\"accuracy: \", accuracy)\n",
        "print(\"AUC\", auc)\n",
        "\n",
        "print(\"\\nAccuracy for the privileged Group = %f\" % comparison_metrics.accuracy(privileged=True))\n",
        "print(\"Accuracy for the unprivileged Group = %f\" % comparison_metrics.accuracy(privileged=False))\n",
        "\n",
        "#Disparate Impact\n",
        "print(\"\\nDisparate Impact = %f\" % comparison_metrics.disparate_impact())\n",
        "\n",
        "#FPR Difference\n",
        "print(\"\\nFalse positive rate difference = %f\" % comparison_metrics.false_positive_rate_difference())\n",
        "\n",
        "#Precision\n",
        "print(\"\\nPrecision = %f\" % comparison_metrics.precision())\n",
        "\n",
        "#Statistical Parity Difference\n",
        "print(\"\\nStatistical Parity Difference = %f\" % comparison_metrics.statistical_parity_difference())"
      ],
      "metadata": {
        "id": "NEVuAVxoTqYl",
        "colab": {
          "base_uri": "https://localhost:8080/"
        },
        "outputId": "57933227-12a4-4ff8-b9f1-7aa863d58241"
      },
      "execution_count": null,
      "outputs": [
        {
          "output_type": "stream",
          "name": "stdout",
          "text": [
            "accuracy:  0.8094170403587444\n",
            "AUC 0.7741092840013704\n",
            "\n",
            "Accuracy for the privileged Group = 0.720280\n",
            "Accuracy for the unprivileged Group = 0.782178\n",
            "\n",
            "Disparate Impact = 0.556475\n",
            "\n",
            "False positive rate difference = 0.144518\n",
            "\n",
            "Precision = 0.712329\n",
            "\n",
            "Statistical Parity Difference = -0.207805\n"
          ]
        }
      ]
    },
    {
      "cell_type": "markdown",
      "source": [
        "## Fairness Analysis on *Age* Group: Old [>40] (Unprivilged) vs. Young [<=40] (Privileged)"
      ],
      "metadata": {
        "id": "Kn8m7M88r3lr"
      }
    },
    {
      "cell_type": "code",
      "source": [
        "# Re_train model for protected value \"Age\"\n",
        "\n",
        "model.fit(X_train_scaled_age, y_train)\n",
        "\n",
        "# Make predictions\n",
        "pred_y = model.predict(X_test_scaled_age)\n",
        "\n"
      ],
      "metadata": {
        "id": "fmNWx0yvthPb"
      },
      "execution_count": null,
      "outputs": []
    },
    {
      "cell_type": "code",
      "source": [
        "# convert predictions data to AIF StandardDataset\n",
        "\n",
        "preds_df = X_test.copy()\n",
        "preds_df['Survived'] = pred_y\n",
        "\n",
        "age_preds_aif360 = transform_to_aif(preds_df, 'Survived', 'Age')\n",
        "\n",
        "\n",
        "# also create AIF StandardDataset versions of test data\n",
        "\n",
        "orig_age_test_aif360 = transform_to_aif(X_test, 'Survived', 'Age')"
      ],
      "metadata": {
        "id": "XjrQiErEt89O"
      },
      "execution_count": null,
      "outputs": []
    },
    {
      "cell_type": "code",
      "source": [
        "# calculate metrics\n",
        "\n",
        "privileged_groups = [{'Age': 1}] \n",
        "unprivileged_groups = [{'Age': 0}]\n",
        "\n",
        "comparison_metrics = ClassificationMetric(orig_age_test_aif360, age_preds_aif360, unprivileged_groups=unprivileged_groups, privileged_groups=privileged_groups)\n",
        "\n",
        "#Accuracy & AUC\n",
        "accuracy = accuracy_score(Y_test, [pred_prob >= 0.5 for pred_prob in pred_y])\n",
        "auc = roc_auc_score(Y_test, pred_y)\n",
        "\n",
        "print(\"accuracy: \", accuracy)\n",
        "print(\"AUC\", auc)\n",
        "\n",
        "print(\"\\nAccuracy for the privileged Group = %f\" % comparison_metrics.accuracy(privileged=True))\n",
        "print(\"Accuracy for the unprivileged Group = %f\" % comparison_metrics.accuracy(privileged=False))\n",
        "\n",
        "#Disparate Impact\n",
        "print(\"\\nDisparate Impact = %f\" % comparison_metrics.disparate_impact())\n",
        "\n",
        "#FPR Difference\n",
        "print(\"\\nFalse positive rate difference = %f\" % comparison_metrics.false_positive_rate_difference())\n",
        "\n",
        "#Precision\n",
        "print(\"\\nPrecision = %f\" % comparison_metrics.precision())\n",
        "\n",
        "#Statistical Parity Difference\n",
        "print(\"\\nStatistical Parity Difference = %f\" % comparison_metrics.statistical_parity_difference())"
      ],
      "metadata": {
        "id": "hzJVDn4QuDZL",
        "colab": {
          "base_uri": "https://localhost:8080/"
        },
        "outputId": "d9f5a708-588a-4e5f-95b6-9efdc19ea5b1"
      },
      "execution_count": null,
      "outputs": [
        {
          "output_type": "stream",
          "name": "stdout",
          "text": [
            "accuracy:  0.8094170403587444\n",
            "AUC 0.7741092840013704\n",
            "\n",
            "Accuracy for the privileged Group = 0.818697\n",
            "Accuracy for the unprivileged Group = 0.827957\n",
            "\n",
            "Disparate Impact = 0.859404\n",
            "\n",
            "False positive rate difference = -0.050885\n",
            "\n",
            "Precision = 0.838462\n",
            "\n",
            "Statistical Parity Difference = -0.042219\n"
          ]
        }
      ]
    },
    {
      "cell_type": "markdown",
      "source": [
        "## Fairness Analysis on *Fare* Group: Low/Median Fare (Unprivileged) vs. High/Very High Fare (Privilged)"
      ],
      "metadata": {
        "id": "m7F0ZdKvuIp7"
      }
    },
    {
      "cell_type": "code",
      "source": [
        "# Re_train model for protected value \"Fare\"\n",
        "\n",
        "model.fit(X_train_scaled_fare, y_train)\n",
        "\n",
        "# Make predictions\n",
        "pred_y = model.predict(X_test_scaled_fare)\n"
      ],
      "metadata": {
        "id": "nSG8EzeQyPxQ"
      },
      "execution_count": null,
      "outputs": []
    },
    {
      "cell_type": "code",
      "source": [
        "# convert predictions data to AIF StandardDataset\n",
        "\n",
        "preds_df = X_test.copy()\n",
        "preds_df['Survived'] = pred_y\n",
        "\n",
        "fare_preds_aif360 = transform_to_aif(preds_df, 'Survived', 'Fare_Bin')\n",
        "\n",
        "\n",
        "# also create AIF StandardDataset versions of test data\n",
        "\n",
        "orig_fare_test_aif360 = transform_to_aif(X_test, 'Survived', 'Fare_Bin')"
      ],
      "metadata": {
        "id": "ZuHneUcTyQ7_"
      },
      "execution_count": null,
      "outputs": []
    },
    {
      "cell_type": "code",
      "source": [
        "# calculate metrics\n",
        "\n",
        "privileged_groups = [{'Fare_Bin': 1}] \n",
        "unprivileged_groups = [{'Fare_Bin': 0}]\n",
        "\n",
        "comparison_metrics = ClassificationMetric(orig_fare_test_aif360, fare_preds_aif360, unprivileged_groups=unprivileged_groups, privileged_groups=privileged_groups)\n",
        "\n",
        "#Accuracy & AUC\n",
        "accuracy = accuracy_score(Y_test, [pred_prob >= 0.5 for pred_prob in pred_y])\n",
        "auc = roc_auc_score(Y_test, pred_y)\n",
        "\n",
        "print(\"accuracy: \", accuracy)\n",
        "print(\"AUC\", auc)\n",
        "\n",
        "print(\"\\nAccuracy for the privileged Group = %f\" % comparison_metrics.accuracy(privileged=True))\n",
        "print(\"Accuracy for the unprivileged Group = %f\" % comparison_metrics.accuracy(privileged=False))\n",
        "\n",
        "#Disparate Impact\n",
        "print(\"\\nDisparate Impact = %f\" % comparison_metrics.disparate_impact())\n",
        "\n",
        "#FPR Difference\n",
        "print(\"\\nFalse positive rate difference = %f\" % comparison_metrics.false_positive_rate_difference())\n",
        "\n",
        "#Precision\n",
        "print(\"\\nPrecision = %f\" % comparison_metrics.precision())\n",
        "\n",
        "#Statistical Parity Difference\n",
        "print(\"\\nStatistical Parity Difference = %f\" % comparison_metrics.statistical_parity_difference())"
      ],
      "metadata": {
        "id": "lQ4PfxeIypPs",
        "colab": {
          "base_uri": "https://localhost:8080/"
        },
        "outputId": "1833c749-90fb-4c5b-ef0c-2cc5983f295a"
      },
      "execution_count": null,
      "outputs": [
        {
          "output_type": "stream",
          "name": "stdout",
          "text": [
            "accuracy:  0.8094170403587444\n",
            "AUC 0.7741092840013704\n",
            "\n",
            "Accuracy for the privileged Group = 0.800000\n",
            "Accuracy for the unprivileged Group = 0.850829\n",
            "\n",
            "Disparate Impact = 0.404367\n",
            "\n",
            "False positive rate difference = 0.007353\n",
            "\n",
            "Precision = 0.828358\n",
            "\n",
            "Statistical Parity Difference = -0.236005\n"
          ]
        }
      ]
    },
    {
      "cell_type": "markdown",
      "source": [
        "## Fairness Analysis on *Class* Group: 3rd Class (Unprivileged) vs. 1st/2nd Class (Privileged) "
      ],
      "metadata": {
        "id": "VYRR0Cz-wrn8"
      }
    },
    {
      "cell_type": "code",
      "source": [
        "# Re_train model for protected value \"class\"\n",
        "\n",
        "model.fit(X_train_scaled_class, y_train)\n",
        "\n",
        "# Make predictions\n",
        "pred_y = model.predict(X_test_scaled_class)\n"
      ],
      "metadata": {
        "id": "_pf4cpsO284b"
      },
      "execution_count": null,
      "outputs": []
    },
    {
      "cell_type": "code",
      "source": [
        "# convert predictions data to AIF StandardDataset\n",
        "\n",
        "preds_df = X_test.copy()\n",
        "preds_df['Survived'] = pred_y\n",
        "\n",
        "class_preds_aif360 = transform_to_aif(preds_df, 'Survived', 'Pclass')\n",
        "\n",
        "\n",
        "# also create AIF StandardDataset versions of test data\n",
        "\n",
        "orig_class_test_aif360 = transform_to_aif(X_test, 'Survived', 'Pclass')"
      ],
      "metadata": {
        "id": "7QoeaYKg29JT"
      },
      "execution_count": null,
      "outputs": []
    },
    {
      "cell_type": "code",
      "source": [
        "# calculate metrics\n",
        "\n",
        "privileged_groups = [{'Pclass': 1}] \n",
        "unprivileged_groups = [{'Pclass': 0}]\n",
        "\n",
        "comparison_metrics = ClassificationMetric(orig_class_test_aif360, class_preds_aif360, unprivileged_groups=unprivileged_groups, privileged_groups=privileged_groups)\n",
        "\n",
        "#Accuracy & AUC\n",
        "accuracy = accuracy_score(Y_test, [pred_prob >= 0.5 for pred_prob in pred_y])\n",
        "auc = roc_auc_score(Y_test, pred_y)\n",
        "\n",
        "print(\"accuracy: \", accuracy)\n",
        "print(\"AUC\", auc)\n",
        "\n",
        "print(\"\\nAccuracy for the privileged Group = %f\" % comparison_metrics.accuracy(privileged=True))\n",
        "print(\"Accuracy for the unprivileged Group = %f\" % comparison_metrics.accuracy(privileged=False))\n",
        "\n",
        "#Disparate Impact\n",
        "print(\"\\nDisparate Impact = %f\" % comparison_metrics.disparate_impact())\n",
        "\n",
        "#FPR Difference\n",
        "print(\"\\nFalse positive rate difference = %f\" % comparison_metrics.false_positive_rate_difference())\n",
        "\n",
        "#Precision\n",
        "print(\"\\nPrecision = %f\" % comparison_metrics.precision())\n",
        "\n",
        "#PStatistical Parity Difference\n",
        "print(\"\\nStatistical Parity Difference = %f\" % comparison_metrics.statistical_parity_difference())"
      ],
      "metadata": {
        "id": "uB5VybRc29QV",
        "colab": {
          "base_uri": "https://localhost:8080/"
        },
        "outputId": "54bbbb30-e336-408e-fa45-b2249bb5073d"
      },
      "execution_count": null,
      "outputs": [
        {
          "output_type": "stream",
          "name": "stdout",
          "text": [
            "accuracy:  0.8094170403587444\n",
            "AUC 0.7741092840013704\n",
            "\n",
            "Accuracy for the privileged Group = 0.766990\n",
            "Accuracy for the unprivileged Group = 0.845833\n",
            "\n",
            "Disparate Impact = 0.475703\n",
            "\n",
            "False positive rate difference = 0.034441\n",
            "\n",
            "Precision = 0.821705\n",
            "\n",
            "Statistical Parity Difference = -0.211246\n"
          ]
        }
      ]
    },
    {
      "cell_type": "markdown",
      "source": [
        "## Robustness Test with Jitter\n",
        "\n",
        "To test whether the ADS is robust to changes, we will add some noise to the test data. When we alter the magnitude of the noise, we can infer how well the model will perform with new data and different sources of noise.\n",
        "\n",
        "In this example we’re going to add some random, normally-distributed noise. \n",
        "\n",
        "Below a jitter_test runs a prediction on the new jitter data over several different jitter scales (standard deviations). To make the resulting curves a little smoother, we’re performing the experiment several times and taking the average. This code was sourced [here](https://winder.ai/testing-model-robustness-with-jitter/). "
      ],
      "metadata": {
        "id": "HafszcT54i9u"
      }
    },
    {
      "cell_type": "code",
      "source": [
        "def jitter(X, scale=0.1):\n",
        "    return X + np.random.normal(0, scale, X.shape)\n",
        "\n",
        "def jitter_test(classifier, X, y, scales = np.linspace(0, 1, 40), N = 10):\n",
        "    out = []\n",
        "    for s in scales:\n",
        "        avg = 0.0\n",
        "        for r in range(N):\n",
        "            avg += metrics.accuracy_score(y, classifier.predict(jitter(X, s)))\n",
        "        out.append(avg / N)\n",
        "    return out, scales"
      ],
      "metadata": {
        "id": "IGeIsm7n4lxJ"
      },
      "execution_count": null,
      "outputs": []
    },
    {
      "cell_type": "code",
      "source": [
        "model.fit(X_train_scaled,y_train);\n",
        "\n",
        "mdl2_scores, jitters = jitter_test(model, X_test_scaled, Y_test)\n",
        "\n",
        "plt.figure()\n",
        "\n",
        "lw = 2\n",
        "\n",
        "plt.plot(jitters, mdl2_scores, color='blue',\n",
        "         lw=lw, label='Voting Classifier')\n",
        "\n",
        "plt.xlabel('Amount of Jitter')\n",
        "plt.ylabel('Accuracy')\n",
        "plt.title('Accuracy for increasing jitter')\n",
        "plt.legend(loc=\"lower right\")\n",
        "plt.show()"
      ],
      "metadata": {
        "id": "Q14y4DWM4w5H",
        "colab": {
          "base_uri": "https://localhost:8080/",
          "height": 521
        },
        "outputId": "d46e5b9b-4e5d-4d7b-ad7b-d9045a0195a0"
      },
      "execution_count": null,
      "outputs": [
        {
          "output_type": "display_data",
          "data": {
            "text/plain": [
              "<Figure size 576x576 with 1 Axes>"
            ],
            "image/png": "[encoded data removed]"
          },
          "metadata": {}
        }
      ]
    }
  ]
}